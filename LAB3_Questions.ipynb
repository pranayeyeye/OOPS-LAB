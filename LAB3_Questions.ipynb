{
 "cells": [
  {
   "cell_type": "markdown",
   "id": "485c07c3-8cfa-4525-a2cb-163358de5784",
   "metadata": {},
   "source": [
    "### Q1)Write a program program to check if the given number is a Disarium Number (11+ 72 + 53 = 1+ 49 +125 = 175).\n"
   ]
  },
  {
   "cell_type": "code",
   "execution_count": 3,
   "id": "ed2bbaff-7dda-4b61-af64-2ef46ba9d4e3",
   "metadata": {},
   "outputs": [
    {
     "name": "stdin",
     "output_type": "stream",
     "text": [
      "Enter a number:  175\n"
     ]
    },
    {
     "name": "stdout",
     "output_type": "stream",
     "text": [
      "175 is a Disarium number.\n"
     ]
    }
   ],
   "source": [
    "def is_disarium(number):\n",
    "    str_num = str(number)\n",
    "    total_sum = 0\n",
    "    for index, digit in enumerate(str_num):\n",
    "        total_sum += int(digit) ** (index + 1)\n",
    "    return total_sum == number\n",
    "\n",
    "num = int(input(\"Enter a number: \"))\n",
    "\n",
    "if is_disarium(num):\n",
    "    print(f\"{num} is a Disarium number.\")\n",
    "else:\n",
    "    print(f\"{num} is not a Disarium number.\")\n"
   ]
  },
  {
   "cell_type": "markdown",
   "id": "132a7cc5-54c0-43e2-b9e0-2192629c1eea",
   "metadata": {},
   "source": [
    "### Q2)Write a program to determine whether the given number is a Harshad Number\n"
   ]
  },
  {
   "cell_type": "code",
   "execution_count": 6,
   "id": "354f2562-bf91-4aa0-8f0f-2e629c333232",
   "metadata": {},
   "outputs": [
    {
     "name": "stdin",
     "output_type": "stream",
     "text": [
      "Enter a number:  7\n"
     ]
    },
    {
     "name": "stdout",
     "output_type": "stream",
     "text": [
      "7 is a Harshad Number.\n"
     ]
    }
   ],
   "source": [
    "def is_harshad_number(num):\n",
    "    digits = [int(digit) for digit in str(num)]\n",
    "    digit_sum = sum(digits)\n",
    "    \n",
    "    if num % digit_sum == 0:\n",
    "        return True\n",
    "    else:\n",
    "        return False\n",
    "\n",
    "number = int(input(\"Enter a number: \"))\n",
    "\n",
    "if is_harshad_number(number):\n",
    "    print(f\"{number} is a Harshad Number.\")\n",
    "else:\n",
    "    print(f\"{number} is not a Harshad Number.\")\n"
   ]
  },
  {
   "cell_type": "markdown",
   "id": "c72df9db-7f1e-4cbe-b118-656fa86335f2",
   "metadata": {},
   "source": [
    "### Q3)Write a program to Print Armstrong Number from 1 to 1000.\n"
   ]
  },
  {
   "cell_type": "code",
   "execution_count": 9,
   "id": "a8a3fe56-0140-413a-a9f2-ad6facce2a6f",
   "metadata": {},
   "outputs": [
    {
     "name": "stdout",
     "output_type": "stream",
     "text": [
      "Armstrong numbers from 1 to 1000 are:\n",
      "1\n",
      "2\n",
      "3\n",
      "4\n",
      "5\n",
      "6\n",
      "7\n",
      "8\n",
      "9\n",
      "153\n",
      "370\n",
      "371\n",
      "407\n"
     ]
    }
   ],
   "source": [
    " def is_armstrong(num):\n",
    "    digits = str(num)\n",
    "    power = len(digits)\n",
    "    sum_of_powers = sum(int(digit) ** power for digit in digits)\n",
    "    return num == sum_of_powers\n",
    "\n",
    "print(\"Armstrong numbers from 1 to 1000 are:\")\n",
    "for number in range(1, 1001):\n",
    "    if is_armstrong(number):\n",
    "        print(number)\n"
   ]
  },
  {
   "cell_type": "markdown",
   "id": "ac0605cc-8f5d-4ed1-8cad-b8ffc8be746a",
   "metadata": {},
   "source": [
    "### Q4)Write a program to Compute the Value of Xn.\n"
   ]
  },
  {
   "cell_type": "code",
   "execution_count": 12,
   "id": "85d4d07a-01f3-490e-b10d-829235a0f62f",
   "metadata": {},
   "outputs": [
    {
     "name": "stdin",
     "output_type": "stream",
     "text": [
      "Enter the value of X:  4\n",
      "Enter the value of n:  2\n"
     ]
    },
    {
     "name": "stdout",
     "output_type": "stream",
     "text": [
      "The value of 4.0 raised to the power of 2 is: 16.0\n"
     ]
    }
   ],
   "source": [
    "def compute_power(x, n):\n",
    "    result = x ** n\n",
    "    return result\n",
    "\n",
    "x = float(input(\"Enter the value of X: \"))\n",
    "n = int(input(\"Enter the value of n: \"))\n",
    "\n",
    "power = compute_power(x, n)\n",
    "\n",
    "print(f\"The value of {x} raised to the power of {n} is: {power}\")\n"
   ]
  },
  {
   "cell_type": "markdown",
   "id": "b5a4ecb8-db0c-4a9f-a2f5-7f2020b77a61",
   "metadata": {},
   "source": [
    "### Q5)Write a program to Calculate the value of nCr.\n"
   ]
  },
  {
   "cell_type": "code",
   "execution_count": 15,
   "id": "e3fe93f7-588a-4cea-a24d-872da3bc066a",
   "metadata": {},
   "outputs": [
    {
     "name": "stdin",
     "output_type": "stream",
     "text": [
      "Enter the value of n:  5\n",
      "Enter the value of r:  6\n"
     ]
    },
    {
     "name": "stdout",
     "output_type": "stream",
     "text": [
      "The value of 5C6 is: 0\n"
     ]
    }
   ],
   "source": [
    "import math\n",
    "\n",
    "def calculate_nCr(n, r):\n",
    "    if r > n:\n",
    "        return 0\n",
    "    return math.factorial(n) // (math.factorial(r) * math.factorial(n - r))\n",
    "\n",
    "n = int(input(\"Enter the value of n: \"))\n",
    "r = int(input(\"Enter the value of r: \"))\n",
    "\n",
    "result = calculate_nCr(n, r)\n",
    "\n",
    "print(f\"The value of {n}C{r} is: {result}\")\n"
   ]
  },
  {
   "cell_type": "markdown",
   "id": "a2437413-be65-487f-90f2-4d05218aa00a",
   "metadata": {},
   "source": [
    "### Q6)Write a program to count the sum of digits in the entered number."
   ]
  },
  {
   "cell_type": "code",
   "execution_count": 19,
   "id": "ef9d4e76-f3f4-4fde-b651-a4d998da74d7",
   "metadata": {},
   "outputs": [
    {
     "name": "stdin",
     "output_type": "stream",
     "text": [
      "Enter a number:  345678\n"
     ]
    },
    {
     "name": "stdout",
     "output_type": "stream",
     "text": [
      "The sum of digits is: 33\n"
     ]
    }
   ],
   "source": [
    "def sum_of_digits(number):\n",
    "    total_sum = 0\n",
    "    while number > 0:\n",
    "        digit = number % 10\n",
    "        total_sum += digit\n",
    "        number //= 10\n",
    "    return total_sum\n",
    "\n",
    "num = int(input(\"Enter a number: \"))\n",
    "print(\"The sum of digits is:\", sum_of_digits(num))\n"
   ]
  }
 ],
 "metadata": {
  "kernelspec": {
   "display_name": "anaconda-panel-2023.05-py310",
   "language": "python",
   "name": "conda-env-anaconda-panel-2023.05-py310-py"
  },
  "language_info": {
   "codemirror_mode": {
    "name": "ipython",
    "version": 3
   },
   "file_extension": ".py",
   "mimetype": "text/x-python",
   "name": "python",
   "nbconvert_exporter": "python",
   "pygments_lexer": "ipython3",
   "version": "3.11.5"
  }
 },
 "nbformat": 4,
 "nbformat_minor": 5
}
