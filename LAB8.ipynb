{
 "cells": [
  {
   "cell_type": "markdown",
   "id": "ed84cbe4-4b56-4dee-b3ca-786c94e14608",
   "metadata": {},
   "source": [
    "### Implementation of default,parameterised and non-parameterised constructor."
   ]
  },
  {
   "cell_type": "markdown",
   "id": "fa177dd6-216e-4d59-89b3-e7abfa470548",
   "metadata": {},
   "source": [
    "### 1)Default constructor"
   ]
  },
  {
   "cell_type": "code",
   "execution_count": 5,
   "id": "3b554be7-3bc0-4e83-aa4e-a5cd16f4ba41",
   "metadata": {},
   "outputs": [
    {
     "name": "stdout",
     "output_type": "stream",
     "text": [
      "Name: John Age: 69\n"
     ]
    }
   ],
   "source": [
    "class Person:\n",
    "    def __init__(self):\n",
    "        self.name = \"John\"\n",
    "        self.age = 69\n",
    "\n",
    "    def display(self):\n",
    "        print(\"Name:\", self.name, \"Age:\", self.age)\n",
    "\n",
    "# Create an object\n",
    "p1 = Person()\n",
    "p1.display()"
   ]
  },
  {
   "cell_type": "markdown",
   "id": "269fdb42-188f-4d01-b4b6-1c90bff9f37e",
   "metadata": {},
   "source": [
    "### 2)Parameterized constructor"
   ]
  },
  {
   "cell_type": "code",
   "execution_count": 8,
   "id": "474da9e1-6bbd-4619-9f8c-e8218166d083",
   "metadata": {},
   "outputs": [
    {
     "name": "stdout",
     "output_type": "stream",
     "text": [
      "Name: Akshay Age: 25\n"
     ]
    }
   ],
   "source": [
    "class Person:\n",
    "    def __init__(self, name, age):\n",
    "        self.name = name\n",
    "        self.age = age\n",
    "\n",
    "    def display(self):\n",
    "        print(\"Name:\", self.name, \"Age:\", self.age)\n",
    "\n",
    "# Create an object with parameters\n",
    "p2 = Person(\"Akshay\", 25)\n",
    "p2.display()"
   ]
  },
  {
   "cell_type": "markdown",
   "id": "1944b74d-b140-42a0-829e-84e1a0e93b56",
   "metadata": {},
   "source": [
    "### 3)Non-parameterised constructor"
   ]
  },
  {
   "cell_type": "code",
   "execution_count": 11,
   "id": "9022c811-861b-4076-83c2-eef46cb6df31",
   "metadata": {},
   "outputs": [
    {
     "name": "stdout",
     "output_type": "stream",
     "text": [
      "Name: John Age: 30\n",
      "Name: Anant Age: 20\n"
     ]
    }
   ],
   "source": [
    "class Person:\n",
    "    def __init__(self, name=\"John\", age=30):\n",
    "        self.name = name\n",
    "        self.age = age\n",
    "\n",
    "    def display(self):\n",
    "        print(\"Name:\", self.name, \"Age:\", self.age)\n",
    "\n",
    "# Create objects\n",
    "p3 = Person()\n",
    "p3.display()\n",
    "\n",
    "p4 = Person(\"Anant\", 20)\n",
    "p4.display()"
   ]
  }
 ],
 "metadata": {
  "kernelspec": {
   "display_name": "anaconda-2022.05-py39",
   "language": "python",
   "name": "conda-env-anaconda-2022.05-py39-py"
  },
  "language_info": {
   "codemirror_mode": {
    "name": "ipython",
    "version": 3
   },
   "file_extension": ".py",
   "mimetype": "text/x-python",
   "name": "python",
   "nbconvert_exporter": "python",
   "pygments_lexer": "ipython3",
   "version": "3.9.12"
  }
 },
 "nbformat": 4,
 "nbformat_minor": 5
}
