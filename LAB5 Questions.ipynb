{
 "cells": [
  {
   "cell_type": "markdown",
   "id": "9588c59e-b6ac-40db-ad25-b5d115cc510b",
   "metadata": {},
   "source": [
    "### Q1)WAP in python to find the factorial of any number using reduce function."
   ]
  },
  {
   "cell_type": "code",
   "execution_count": 20,
   "id": "e95e31c2-04ec-4f0c-91f5-682291133204",
   "metadata": {},
   "outputs": [
    {
     "name": "stdin",
     "output_type": "stream",
     "text": [
      "Enter a number:  6\n"
     ]
    },
    {
     "name": "stdout",
     "output_type": "stream",
     "text": [
      "The factorial of 6 is: 720\n"
     ]
    }
   ],
   "source": [
    "from functools import reduce\n",
    "\n",
    "def factorial(n):\n",
    "    if n < 0:\n",
    "        return \"Factorial is not defined.\"\n",
    "    result = reduce(lambda x, y: x * y, range(1, n + 1), 1)\n",
    "    return result\n",
    "\n",
    "number = int(input(\"Enter a number: \"))\n",
    "result = factorial(number)\n",
    "print(\"The factorial of\", number, \"is:\", result)\n"
   ]
  },
  {
   "cell_type": "markdown",
   "id": "286f16a4-b24b-41be-9a53-d99b4cb9a685",
   "metadata": {},
   "source": [
    "\n",
    "### Q2)WAP in python to find the largest among three numbers using reduce function."
   ]
  },
  {
   "cell_type": "code",
   "execution_count": 22,
   "id": "2a175a4e-5b4e-44fa-a8c4-4a6218689839",
   "metadata": {},
   "outputs": [
    {
     "name": "stdin",
     "output_type": "stream",
     "text": [
      "Enter first number:  3\n",
      "Enter second number:  4\n",
      "Enter third number:  5\n"
     ]
    },
    {
     "name": "stdout",
     "output_type": "stream",
     "text": [
      "The largest number is: 5.0\n"
     ]
    }
   ],
   "source": [
    "from functools import reduce\n",
    "\n",
    "def max_of_two(a, b):\n",
    "    if a > b:\n",
    "        return a\n",
    "    else:\n",
    "        return b\n",
    "\n",
    "num1 = float(input(\"Enter first number: \"))\n",
    "num2 = float(input(\"Enter second number: \"))\n",
    "num3 = float(input(\"Enter third number: \"))\n",
    "\n",
    "largest_number = reduce(max_of_two, [num1, num2, num3])\n",
    "\n",
    "print(\"The largest number is:\", largest_number)\n"
   ]
  },
  {
   "cell_type": "markdown",
   "id": "5da71eae-bb82-4aa8-a580-6a59281c2445",
   "metadata": {},
   "source": [
    "### Q3)Write a Python program to triple all numbers in a given list of integers. Use Python map."
   ]
  },
  {
   "cell_type": "code",
   "execution_count": 8,
   "id": "05d214ca-7611-4d1a-93e5-57ef757bd14f",
   "metadata": {},
   "outputs": [
    {
     "name": "stdout",
     "output_type": "stream",
     "text": [
      "Original list: [1, 2, 3, 4, 5]\n",
      "Tripled list: [3, 6, 9, 12, 15]\n"
     ]
    }
   ],
   "source": [
    "def triple(x):\n",
    "    return x * 3\n",
    "\n",
    "numbers = [1, 2, 3, 4, 5]\n",
    "\n",
    "tripled_numbers = list(map(triple, numbers))\n",
    "\n",
    "print(\"Original list:\", numbers)\n",
    "print(\"Tripled list:\", tripled_numbers)\n"
   ]
  },
  {
   "cell_type": "markdown",
   "id": "2f288775-1bd7-47c4-b875-88b258330611",
   "metadata": {},
   "source": [
    "### Q4)Write a Python program to add three given lists using Python map and lambda. "
   ]
  },
  {
   "cell_type": "code",
   "execution_count": 14,
   "id": "cb374bb6-69ec-460e-ba73-e96c8dfbf226",
   "metadata": {},
   "outputs": [
    {
     "name": "stdout",
     "output_type": "stream",
     "text": [
      "The sum of the three lists is: [12, 15, 18]\n"
     ]
    }
   ],
   "source": [
    "list1 = [1, 2, 3]\n",
    "list2 = [4, 5, 6]\n",
    "list3 = [7, 8, 9]\n",
    "\n",
    "result = list(map(lambda x, y, z: x + y + z, list1, list2, list3))\n",
    "\n",
    "print(\"The sum of the three lists is:\", result)"
   ]
  },
  {
   "cell_type": "markdown",
   "id": "402ecf94-ab46-436e-a2d7-5fb3ffe23fc6",
   "metadata": {},
   "source": [
    "### Q5)Write a Python program to listify the list of given strings individually using Python map. "
   ]
  },
  {
   "cell_type": "code",
   "execution_count": 17,
   "id": "8045341a-c30c-464d-843a-33037b418a1f",
   "metadata": {},
   "outputs": [
    {
     "name": "stdout",
     "output_type": "stream",
     "text": [
      "[['a', 'p', 'p', 'l', 'e'], ['b', 'a', 'n', 'a', 'n', 'a'], ['c', 'h', 'e', 'r', 'r', 'y']]\n"
     ]
    }
   ],
   "source": [
    "def listify_string(s):\n",
    "    return list(s)\n",
    "\n",
    "strings = [\"apple\", \"banana\", \"cherry\"]\n",
    "\n",
    "listified_strings = list(map(listify_string, strings))\n",
    "\n",
    "print(listified_strings)"
   ]
  },
  {
   "cell_type": "markdown",
   "id": "fb0b20d7-2a36-428b-97fa-d0e76df72d79",
   "metadata": {},
   "source": [
    "### Q6)Write a Python program to square the elements of a list using the map() function."
   ]
  },
  {
   "cell_type": "code",
   "execution_count": 21,
   "id": "b708dba6-9fc7-4b5a-b4d2-b77a1ea5c85e",
   "metadata": {},
   "outputs": [
    {
     "name": "stdout",
     "output_type": "stream",
     "text": [
      "Original List: [1, 2, 3, 4, 5]\n",
      "Squared List: [2, 4, 6, 8, 10]\n"
     ]
    }
   ],
   "source": [
    "def square(num):\n",
    "    return num * 2\n",
    "\n",
    "numbers = [1, 2, 3, 4, 5]\n",
    "\n",
    "squared_numbers = list(map(square, numbers))\n",
    "\n",
    "print(\"Original List:\", numbers)\n",
    "print(\"Squared List:\", squared_numbers)"
   ]
  },
  {
   "cell_type": "markdown",
   "id": "7633d152-6c4b-489f-ac8a-a216ec11dd3d",
   "metadata": {},
   "source": [
    "### Q7)Write a Python program to convert a given list of integers and a tuple of integers in a list of strings."
   ]
  },
  {
   "cell_type": "code",
   "execution_count": 24,
   "id": "25c9e3fe-db98-40fa-abcc-4b9466eb913e",
   "metadata": {},
   "outputs": [
    {
     "name": "stdout",
     "output_type": "stream",
     "text": [
      "Converted list: ['1', '2', '3', '4', '5', '6', '7', '8']\n"
     ]
    }
   ],
   "source": [
    "def convert_to_strings(int_list, int_tuple):\n",
    "    result_list = list(map(str, int_list)) + list(map(str, int_tuple))\n",
    "    return result_list\n",
    "\n",
    "int_list = [1, 2, 3, 4]\n",
    "int_tuple = (5, 6, 7, 8)\n",
    "\n",
    "result = convert_to_strings(int_list, int_tuple)\n",
    "\n",
    "print(\"Converted list:\", result)\n"
   ]
  }
 ],
 "metadata": {
  "kernelspec": {
   "display_name": "anaconda-2022.05-py39",
   "language": "python",
   "name": "conda-env-anaconda-2022.05-py39-py"
  },
  "language_info": {
   "codemirror_mode": {
    "name": "ipython",
    "version": 3
   },
   "file_extension": ".py",
   "mimetype": "text/x-python",
   "name": "python",
   "nbconvert_exporter": "python",
   "pygments_lexer": "ipython3",
   "version": "3.9.12"
  }
 },
 "nbformat": 4,
 "nbformat_minor": 5
}
