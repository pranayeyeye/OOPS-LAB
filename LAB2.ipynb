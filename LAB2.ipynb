{
 "cells": [
  {
   "cell_type": "markdown",
   "id": "d9a5ce57-d554-42ac-a3e5-fc844d00e665",
   "metadata": {},
   "source": [
    "### LAB 2\n"
   ]
  },
  {
   "cell_type": "code",
   "execution_count": 8,
   "id": "741cd92c-b055-48f4-b8a1-6bce860ddf50",
   "metadata": {},
   "outputs": [
    {
     "name": "stdout",
     "output_type": "stream",
     "text": [
      "True\n"
     ]
    }
   ],
   "source": [
    "x = 10\n",
    "y = 10.0\n",
    "print(x == y)"
   ]
  },
  {
   "cell_type": "code",
   "execution_count": 10,
   "id": "58c62527-ec18-4840-88e2-0ecf3e6564ee",
   "metadata": {},
   "outputs": [
    {
     "name": "stdout",
     "output_type": "stream",
     "text": [
      "True\n"
     ]
    }
   ],
   "source": [
    "print(type(3.0) is float)"
   ]
  },
  {
   "cell_type": "code",
   "execution_count": 14,
   "id": "7c7ce2f6-96e2-4cf7-a1bc-bab7b7b67580",
   "metadata": {},
   "outputs": [
    {
     "name": "stdout",
     "output_type": "stream",
     "text": [
      "False\n"
     ]
    }
   ],
   "source": [
    "print(type(3.0) is not float)"
   ]
  },
  {
   "cell_type": "code",
   "execution_count": 16,
   "id": "6555d1ce-0413-4f82-a6f3-e473565cbd77",
   "metadata": {},
   "outputs": [
    {
     "data": {
      "text/plain": [
       "dict"
      ]
     },
     "execution_count": 16,
     "metadata": {},
     "output_type": "execute_result"
    }
   ],
   "source": [
    "type({})"
   ]
  },
  {
   "cell_type": "code",
   "execution_count": 18,
   "id": "2decf8b6-6f9d-417c-852a-cf21d82404f4",
   "metadata": {},
   "outputs": [
    {
     "name": "stdout",
     "output_type": "stream",
     "text": [
      "<class 'dict'>\n"
     ]
    }
   ],
   "source": [
    "x = {}\n",
    "print(type(x))\n"
   ]
  },
  {
   "cell_type": "code",
   "execution_count": 26,
   "id": "2b3e60ce-22f4-4228-a73f-d96ef2a6c891",
   "metadata": {},
   "outputs": [
    {
     "name": "stdout",
     "output_type": "stream",
     "text": [
      "frozenset['1', '2', '3']\n",
      "<class 'types.GenericAlias'>\n"
     ]
    }
   ],
   "source": [
    "x = frozenset[\"1\",\"2\",\"3\"]\n",
    "print(x)\n",
    "print(type(x))"
   ]
  },
  {
   "cell_type": "code",
   "execution_count": 24,
   "id": "c666dda6-d615-497b-b6b2-0adbc5b0528b",
   "metadata": {},
   "outputs": [
    {
     "name": "stdout",
     "output_type": "stream",
     "text": [
      "False\n"
     ]
    }
   ],
   "source": [
    "x = 10\n",
    "y = 10.0\n",
    "print(type(x) is type(y))"
   ]
  },
  {
   "cell_type": "code",
   "execution_count": 28,
   "id": "a6e7ea72-b8cc-4610-8a26-7846c23e77c7",
   "metadata": {},
   "outputs": [
    {
     "name": "stdout",
     "output_type": "stream",
     "text": [
      "3\n"
     ]
    }
   ],
   "source": [
    "a = 5\n",
    "b = 2\n",
    "print(a//b + a%b)"
   ]
  },
  {
   "cell_type": "code",
   "execution_count": 30,
   "id": "746d1ed5-e87e-4cc2-acd7-96f0064bde36",
   "metadata": {},
   "outputs": [
    {
     "name": "stdout",
     "output_type": "stream",
     "text": [
      "512\n"
     ]
    }
   ],
   "source": [
    "print(2**3**2)"
   ]
  },
  {
   "cell_type": "code",
   "execution_count": 32,
   "id": "18fd56c3-6898-4449-a006-66bb41992775",
   "metadata": {},
   "outputs": [
    {
     "name": "stdout",
     "output_type": "stream",
     "text": [
      "2\n"
     ]
    }
   ],
   "source": [
    "x = 2\n",
    "y = 5\n",
    "print(x**y%3)"
   ]
  },
  {
   "cell_type": "code",
   "execution_count": 34,
   "id": "63a25d4c-c305-439f-be05-9e7966020df1",
   "metadata": {},
   "outputs": [
    {
     "name": "stdout",
     "output_type": "stream",
     "text": [
      "3\n"
     ]
    }
   ],
   "source": [
    "print(5 & 3 | 2)"
   ]
  },
  {
   "cell_type": "code",
   "execution_count": 36,
   "id": "233af337-30cc-4709-8776-f65b14e79107",
   "metadata": {},
   "outputs": [
    {
     "name": "stdout",
     "output_type": "stream",
     "text": [
      "-4\n"
     ]
    }
   ],
   "source": [
    "print(-10//3)\n"
   ]
  },
  {
   "cell_type": "code",
   "execution_count": 38,
   "id": "34ad9520-2d4b-4b01-a2c3-1ec03ea7d91e",
   "metadata": {},
   "outputs": [
    {
     "name": "stdout",
     "output_type": "stream",
     "text": [
      "4\n"
     ]
    }
   ],
   "source": [
    "print(5^3&1)"
   ]
  },
  {
   "cell_type": "code",
   "execution_count": 40,
   "id": "2a93e3d5-d778-4ef1-91b4-432c26fb4b0d",
   "metadata": {},
   "outputs": [
    {
     "name": "stdout",
     "output_type": "stream",
     "text": [
      "2\n"
     ]
    }
   ],
   "source": [
    "print(5<<1&3)"
   ]
  },
  {
   "cell_type": "code",
   "execution_count": 42,
   "id": "f2f75283-fd52-4539-a3ac-15959ae9142e",
   "metadata": {},
   "outputs": [
    {
     "name": "stdout",
     "output_type": "stream",
     "text": [
      "True\n"
     ]
    }
   ],
   "source": [
    "a=[1,2,3]\n",
    "print(4 not in a and 2 in a)"
   ]
  },
  {
   "cell_type": "code",
   "execution_count": 44,
   "id": "8f14347a-ff5e-43ad-823e-ec436d123460",
   "metadata": {},
   "outputs": [
    {
     "name": "stdout",
     "output_type": "stream",
     "text": [
      "True\n"
     ]
    }
   ],
   "source": [
    "print(2**3>5 and 5<2+2*2)"
   ]
  },
  {
   "cell_type": "markdown",
   "id": "b1584b89-975a-4a29-be79-3d3a64f8c210",
   "metadata": {},
   "source": [
    "### WAP to check whether a given number ia an armstrong number or not."
   ]
  },
  {
   "cell_type": "code",
   "execution_count": 53,
   "id": "f0f08d1f-1819-4dd0-99da-1c3075e8881e",
   "metadata": {},
   "outputs": [
    {
     "name": "stdout",
     "output_type": "stream",
     "text": [
      "It is an Armstrong number\n"
     ]
    }
   ],
   "source": [
    "n = 153\n",
    "n_str = str(n)\n",
    "n_len = len(n_str)\n",
    "sum_power=0\n",
    "\n",
    "for i in n_str:\n",
    "    sum_power += int(i)**n_len\n",
    "\n",
    "if sum_power == n:\n",
    "    print(\"It is an Armstrong number\")\n",
    "else:\n",
    "    print(\"It is not an Armstrong number\") "
   ]
  },
  {
   "cell_type": "markdown",
   "id": "5e93f169-a20c-4d45-b23e-729dbbbf51a6",
   "metadata": {},
   "source": [
    "### WAP to print the fibonacci series upto 100."
   ]
  },
  {
   "cell_type": "code",
   "execution_count": 56,
   "id": "cadf24be-253a-4042-8e4a-b87fe83f9cde",
   "metadata": {},
   "outputs": [
    {
     "name": "stdout",
     "output_type": "stream",
     "text": [
      "0 1 1 2 3 5 8 13 21 34 55 89 "
     ]
    }
   ],
   "source": [
    "a = 0\n",
    "b = 1\n",
    "\n",
    "while a <= 100:\n",
    "    print(a, end=' ')\n",
    "    a, b = b, a + b\n"
   ]
  },
  {
   "cell_type": "markdown",
   "id": "36ee7be2-96d0-41e0-b19d-c58562132470",
   "metadata": {},
   "source": [
    "### WAP to find factorial of numbers from 1 to 50 and print them."
   ]
  },
  {
   "cell_type": "code",
   "execution_count": 59,
   "id": "03b0a017-e743-449f-be94-a1f9d85a5f3c",
   "metadata": {},
   "outputs": [
    {
     "name": "stdout",
     "output_type": "stream",
     "text": [
      "Factorial of 1 is 1\n",
      "Factorial of 2 is 2\n",
      "Factorial of 3 is 6\n",
      "Factorial of 4 is 24\n",
      "Factorial of 5 is 120\n",
      "Factorial of 6 is 720\n",
      "Factorial of 7 is 5040\n",
      "Factorial of 8 is 40320\n",
      "Factorial of 9 is 362880\n",
      "Factorial of 10 is 3628800\n",
      "Factorial of 11 is 39916800\n",
      "Factorial of 12 is 479001600\n",
      "Factorial of 13 is 6227020800\n",
      "Factorial of 14 is 87178291200\n",
      "Factorial of 15 is 1307674368000\n",
      "Factorial of 16 is 20922789888000\n",
      "Factorial of 17 is 355687428096000\n",
      "Factorial of 18 is 6402373705728000\n",
      "Factorial of 19 is 121645100408832000\n",
      "Factorial of 20 is 2432902008176640000\n",
      "Factorial of 21 is 51090942171709440000\n",
      "Factorial of 22 is 1124000727777607680000\n",
      "Factorial of 23 is 25852016738884976640000\n",
      "Factorial of 24 is 620448401733239439360000\n",
      "Factorial of 25 is 15511210043330985984000000\n",
      "Factorial of 26 is 403291461126605635584000000\n",
      "Factorial of 27 is 10888869450418352160768000000\n",
      "Factorial of 28 is 304888344611713860501504000000\n",
      "Factorial of 29 is 8841761993739701954543616000000\n",
      "Factorial of 30 is 265252859812191058636308480000000\n",
      "Factorial of 31 is 8222838654177922817725562880000000\n",
      "Factorial of 32 is 263130836933693530167218012160000000\n",
      "Factorial of 33 is 8683317618811886495518194401280000000\n",
      "Factorial of 34 is 295232799039604140847618609643520000000\n",
      "Factorial of 35 is 10333147966386144929666651337523200000000\n",
      "Factorial of 36 is 371993326789901217467999448150835200000000\n",
      "Factorial of 37 is 13763753091226345046315979581580902400000000\n",
      "Factorial of 38 is 523022617466601111760007224100074291200000000\n",
      "Factorial of 39 is 20397882081197443358640281739902897356800000000\n",
      "Factorial of 40 is 815915283247897734345611269596115894272000000000\n",
      "Factorial of 41 is 33452526613163807108170062053440751665152000000000\n",
      "Factorial of 42 is 1405006117752879898543142606244511569936384000000000\n",
      "Factorial of 43 is 60415263063373835637355132068513997507264512000000000\n",
      "Factorial of 44 is 2658271574788448768043625811014615890319638528000000000\n",
      "Factorial of 45 is 119622220865480194561963161495657715064383733760000000000\n",
      "Factorial of 46 is 5502622159812088949850305428800254892961651752960000000000\n",
      "Factorial of 47 is 258623241511168180642964355153611979969197632389120000000000\n",
      "Factorial of 48 is 12413915592536072670862289047373375038521486354677760000000000\n",
      "Factorial of 49 is 608281864034267560872252163321295376887552831379210240000000000\n",
      "Factorial of 50 is 30414093201713378043612608166064768844377641568960512000000000000\n"
     ]
    }
   ],
   "source": [
    "import math\n",
    "\n",
    "for i in range(1, 51):\n",
    "    print(\"Factorial of\", i, \"is\", math.factorial(i))\n"
   ]
  },
  {
   "cell_type": "markdown",
   "id": "9549c291-2566-4017-a471-32150be62c1e",
   "metadata": {},
   "source": [
    "### WAP to calculate the sum of Fibonacci series."
   ]
  },
  {
   "cell_type": "code",
   "execution_count": 3,
   "id": "64a1536e-93e6-4dc6-9866-baf4a718af6d",
   "metadata": {},
   "outputs": [
    {
     "name": "stdin",
     "output_type": "stream",
     "text": [
      "Enter the number of terms:  20\n"
     ]
    },
    {
     "name": "stdout",
     "output_type": "stream",
     "text": [
      "The sum of the first 20 terms of the Fibonacci series is: 10945\n"
     ]
    }
   ],
   "source": [
    "def fibonacci_sum(n):\n",
    "    a = 0\n",
    "    b = 1\n",
    "    total_sum = 0\n",
    "    \n",
    "    for i in range(n):\n",
    "        total_sum += a\n",
    "        temp = a\n",
    "        a = b\n",
    "        b = temp + b\n",
    "    \n",
    "    return total_sum\n",
    "\n",
    "n = int(input(\"Enter the number of terms: \"))\n",
    "print(\"The sum of the first\", n, \"terms of the Fibonacci series is:\", fibonacci_sum(n))\n",
    "\n"
   ]
  }
 ],
 "metadata": {
  "kernelspec": {
   "display_name": "anaconda-panel-2023.05-py310",
   "language": "python",
   "name": "conda-env-anaconda-panel-2023.05-py310-py"
  },
  "language_info": {
   "codemirror_mode": {
    "name": "ipython",
    "version": 3
   },
   "file_extension": ".py",
   "mimetype": "text/x-python",
   "name": "python",
   "nbconvert_exporter": "python",
   "pygments_lexer": "ipython3",
   "version": "3.11.5"
  }
 },
 "nbformat": 4,
 "nbformat_minor": 5
}
