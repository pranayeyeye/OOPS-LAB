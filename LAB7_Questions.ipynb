{
 "cells": [
  {
   "cell_type": "markdown",
   "id": "54319024-a340-48a9-970a-b3eaccf38a38",
   "metadata": {},
   "source": [
    "### Q1)Write a program to create a class called \"Person\" with a name and age attribute. Create two instances of the \"Person\" class, set their attributes using the constructor, and print their name and age."
   ]
  },
  {
   "cell_type": "code",
   "execution_count": 1,
   "id": "88295b20-5c64-4214-90c9-9993f0ecb6e2",
   "metadata": {},
   "outputs": [
    {
     "name": "stdout",
     "output_type": "stream",
     "text": [
      "Pranay 19\n",
      "Rohit 22\n"
     ]
    }
   ],
   "source": [
    "class Person:\n",
    "    def __init__(self, name, age):\n",
    "        self.name = name\n",
    "        self.age = age\n",
    "\n",
    "person1 = Person(\"Pranay\", 19)\n",
    "person2 = Person(\"Rohit\", 22)\n",
    "\n",
    "print(person1.name, person1.age)\n",
    "print(person2.name, person2.age)"
   ]
  },
  {
   "cell_type": "markdown",
   "id": "112e6302-0829-4d88-b198-65fe27864d35",
   "metadata": {},
   "source": [
    "### Q2)Create a class named 'Student' with String variable 'name' and integer variable 'roll_no'. Assign the value of roll no as '2' and that of name as \"John\" by creating an object of the class Student."
   ]
  },
  {
   "cell_type": "code",
   "execution_count": 4,
   "id": "7db3bd9d-5d3d-4d36-b2ae-f8c0163c16f5",
   "metadata": {},
   "outputs": [
    {
     "name": "stdout",
     "output_type": "stream",
     "text": [
      "John\n",
      "2\n"
     ]
    }
   ],
   "source": [
    "class Student:\n",
    "    def __init__(self, name, roll_no):\n",
    "        self.name = name\n",
    "        self.roll_no = roll_no\n",
    "\n",
    "student = Student(\"John\", 2)\n",
    "\n",
    "print(student.name)\n",
    "print(student.roll_no)"
   ]
  },
  {
   "cell_type": "markdown",
   "id": "42640918-6d40-47ac-aa5f-861f9aff27bd",
   "metadata": {},
   "source": [
    "### Q3) Write a program to define a class to represent a bank account, with methods to deposit, withdraw, and check the balance.\n"
   ]
  },
  {
   "cell_type": "code",
   "execution_count": 7,
   "id": "d755c288-dcb0-4be2-8640-f5a67833979e",
   "metadata": {},
   "outputs": [
    {
     "name": "stdout",
     "output_type": "stream",
     "text": [
      "Deposited: 1000\n",
      "Withdrawn: 500\n",
      "Balance: 500\n"
     ]
    }
   ],
   "source": [
    "class BankAccount:\n",
    "    def __init__(self):\n",
    "        self.balance = 0\n",
    "\n",
    "    def deposit(self, amount):\n",
    "        self.balance += amount\n",
    "        print(\"Deposited:\", amount)\n",
    "\n",
    "    def withdraw(self, amount):\n",
    "        if amount <= self.balance:\n",
    "            self.balance -= amount\n",
    "            print(\"Withdrawn:\", amount)\n",
    "        else:\n",
    "            print(\"Insufficient funds\")\n",
    "\n",
    "    def check_balance(self):\n",
    "        print(\"Balance:\", self.balance)\n",
    "\n",
    "account = BankAccount()\n",
    "account.deposit(1000)\n",
    "account.withdraw(500)\n",
    "account.check_balance()"
   ]
  },
  {
   "cell_type": "markdown",
   "id": "748e03b9-c239-4b1b-ab7c-958872c62b72",
   "metadata": {},
   "source": [
    "### Q4) Write a program to define a class Student with attributes like name and age, and create objects to represent different students."
   ]
  },
  {
   "cell_type": "code",
   "execution_count": 12,
   "id": "5a864ae5-d65c-4752-b358-62e45ff20f0e",
   "metadata": {},
   "outputs": [
    {
     "name": "stdout",
     "output_type": "stream",
     "text": [
      "Venkat 20\n",
      "Nithin 18\n"
     ]
    }
   ],
   "source": [
    "class Student:\n",
    "    def __init__(self, name, age):\n",
    "        self.name = name\n",
    "        self.age = age\n",
    "\n",
    "student1 = Student(\"Venkat\", 20)\n",
    "student2 = Student(\"Nithin\", 18)\n",
    "\n",
    "print(student1.name, student1.age)\n",
    "print(student2.name, student2.age)"
   ]
  }
 ],
 "metadata": {
  "kernelspec": {
   "display_name": "anaconda-2022.05-py39",
   "language": "python",
   "name": "conda-env-anaconda-2022.05-py39-py"
  },
  "language_info": {
   "codemirror_mode": {
    "name": "ipython",
    "version": 3
   },
   "file_extension": ".py",
   "mimetype": "text/x-python",
   "name": "python",
   "nbconvert_exporter": "python",
   "pygments_lexer": "ipython3",
   "version": "3.9.12"
  }
 },
 "nbformat": 4,
 "nbformat_minor": 5
}
