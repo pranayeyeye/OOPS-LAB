{
 "cells": [
  {
   "cell_type": "markdown",
   "id": "4f72f307-cc28-42df-ab9a-b92a64c27cdd",
   "metadata": {},
   "source": [
    "### Q1)Write a program in python to print the following patterns(1 to 18):-"
   ]
  },
  {
   "cell_type": "markdown",
   "id": "febb1d7b",
   "metadata": {},
   "source": [
    "### Pattern #1: Simple Number Triangle Pattern"
   ]
  },
  {
   "cell_type": "code",
   "execution_count": 28,
   "id": "8084286c-eda6-47dc-ad88-1ec8c3196846",
   "metadata": {},
   "outputs": [
    {
     "name": "stdout",
     "output_type": "stream",
     "text": [
      "1 \n",
      "2 2 \n",
      "3 3 3 \n",
      "4 4 4 4 \n",
      "5 5 5 5 5 \n"
     ]
    }
   ],
   "source": [
    "def pattern_1():\n",
    "    for i in range(1, 6):\n",
    "        for j in range(i):\n",
    "            print(i, end=' ')\n",
    "        print()\n",
    "\n",
    "pattern_1()\n"
   ]
  },
  {
   "cell_type": "markdown",
   "id": "2806b963",
   "metadata": {},
   "source": [
    "### Pattern #2: Inverted Pyramid of Numbers"
   ]
  },
  {
   "cell_type": "code",
   "execution_count": 33,
   "id": "e3f06739-4ed7-4b5d-81d0-ee4490448074",
   "metadata": {},
   "outputs": [
    {
     "name": "stdout",
     "output_type": "stream",
     "text": [
      "5 5 5 5 5 \n",
      "4 4 4 4 \n",
      "3 3 3 \n",
      "2 2 \n",
      "1 \n"
     ]
    }
   ],
   "source": [
    "def pattern_2():\n",
    "    for i in range(5, 0, -1):\n",
    "        for j in range(i):\n",
    "            print(i, end=' ')\n",
    "        print()\n",
    "\n",
    "pattern_2()"
   ]
  },
  {
   "cell_type": "markdown",
   "id": "69f91e77",
   "metadata": {},
   "source": [
    "### Pattern #3: Half Pyramid Pattern of Numbers"
   ]
  },
  {
   "cell_type": "code",
   "execution_count": 35,
   "id": "6ae4eb5f-a494-46db-adc6-bfd5ba5c2f93",
   "metadata": {},
   "outputs": [
    {
     "name": "stdout",
     "output_type": "stream",
     "text": [
      "1 \n",
      "1 2 \n",
      "1 2 3 \n",
      "1 2 3 4 \n",
      "1 2 3 4 5 \n"
     ]
    }
   ],
   "source": [
    "def pattern_3():\n",
    "    for i in range(1, 6):\n",
    "        for j in range(1, i + 1):\n",
    "            print(j, end=' ')\n",
    "        print()\n",
    "\n",
    "pattern_3()\n"
   ]
  },
  {
   "cell_type": "markdown",
   "id": "b5834c2d",
   "metadata": {},
   "source": [
    "### Pattern #4: Inverted Pyramid of Descending Numbers"
   ]
  },
  {
   "cell_type": "code",
   "execution_count": 37,
   "id": "ad6048e0-1457-45cc-bca9-09ef88e9f3fe",
   "metadata": {},
   "outputs": [
    {
     "name": "stdout",
     "output_type": "stream",
     "text": [
      "5 5 5 5 5 \n",
      "4 4 4 4 \n",
      "3 3 3 \n",
      "2 2 \n",
      "1 \n"
     ]
    }
   ],
   "source": [
    "def pattern_4():\n",
    "    for i in range(5, 0, -1):\n",
    "        for j in range(i):\n",
    "            print(i, end=' ')\n",
    "        print()\n",
    "\n",
    "pattern_4()"
   ]
  },
  {
   "cell_type": "markdown",
   "id": "8eccf8a8",
   "metadata": {},
   "source": [
    "### Pattern #5: Inverted Pyramid of the Same Digit"
   ]
  },
  {
   "cell_type": "code",
   "execution_count": 39,
   "id": "1ed95992-958c-46db-a64a-679d444d29b1",
   "metadata": {},
   "outputs": [
    {
     "name": "stdout",
     "output_type": "stream",
     "text": [
      "5 5 5 5 5 \n",
      "5 5 5 5 \n",
      "5 5 5 \n",
      "5 5 \n",
      "5 \n"
     ]
    }
   ],
   "source": [
    "def pattern_5():\n",
    "    for i in range(5, 0, -1):\n",
    "        for j in range(i):\n",
    "            print(5, end=' ')\n",
    "        print()\n",
    "\n",
    "pattern_5()"
   ]
  },
  {
   "cell_type": "markdown",
   "id": "611bb884",
   "metadata": {},
   "source": [
    "### Pattern #6: Reverse Pyramid of Numbers"
   ]
  },
  {
   "cell_type": "code",
   "execution_count": 41,
   "id": "23a0bc25-75f4-4af0-bad0-2b53b5626fd5",
   "metadata": {},
   "outputs": [
    {
     "name": "stdout",
     "output_type": "stream",
     "text": [
      "1 \n",
      "2 1 \n",
      "3 2 1 \n",
      "4 3 2 1 \n",
      "5 4 3 2 1 \n"
     ]
    }
   ],
   "source": [
    "def pattern_6():\n",
    "    for i in range(1, 6):\n",
    "        for j in range(i, 0, -1):\n",
    "            print(j, end=' ')\n",
    "        print()\n",
    "\n",
    "pattern_6()"
   ]
  },
  {
   "cell_type": "markdown",
   "id": "169d83de",
   "metadata": {},
   "source": [
    "### Pattern #7: Inverted Half Pyramid Number Pattern\n"
   ]
  },
  {
   "cell_type": "code",
   "execution_count": 43,
   "id": "8c0bfd7a-0167-4e53-bbde-2cce65166ef2",
   "metadata": {},
   "outputs": [
    {
     "name": "stdout",
     "output_type": "stream",
     "text": [
      "0 1 2 3 4 5 \n",
      "0 1 2 3 4 \n",
      "0 1 2 3 \n",
      "0 1 2 \n",
      "0 1 \n",
      "0 \n"
     ]
    }
   ],
   "source": [
    "def pattern_7():\n",
    "    for i in range(6, 0, -1):\n",
    "        for j in range(i):\n",
    "            print(j, end=' ')\n",
    "        print()\n",
    "\n",
    "pattern_7()"
   ]
  },
  {
   "cell_type": "markdown",
   "id": "e05c2fce",
   "metadata": {},
   "source": [
    "### Pattern #8: Pyramid of Natural Numbers Less Than 10"
   ]
  },
  {
   "cell_type": "code",
   "execution_count": 45,
   "id": "a7bc9a12-e038-4dd0-af38-8e48e5789644",
   "metadata": {},
   "outputs": [
    {
     "name": "stdout",
     "output_type": "stream",
     "text": [
      "1 \n",
      "2 3 \n",
      "4 5 6 \n"
     ]
    }
   ],
   "source": [
    "def pattern_8():\n",
    "    num = 1\n",
    "    for i in range(1, 4):\n",
    "        for j in range(i):\n",
    "            print(num, end=' ')\n",
    "            num += 1\n",
    "        print()\n",
    "\n",
    "pattern_8()"
   ]
  },
  {
   "cell_type": "markdown",
   "id": "d3ea8f51",
   "metadata": {},
   "source": [
    "### Pattern #9: Reverse Pattern of Digits from 10 "
   ]
  },
  {
   "cell_type": "code",
   "execution_count": 47,
   "id": "745b6ae5-affd-4244-9ec1-a0423939675c",
   "metadata": {},
   "outputs": [
    {
     "name": "stdout",
     "output_type": "stream",
     "text": [
      "1 \n",
      "2 3 \n",
      "3 4 5 \n",
      "4 5 6 7 \n"
     ]
    }
   ],
   "source": [
    "def pattern_9():\n",
    "    for i in range(1, 5):\n",
    "        for j in range(i):\n",
    "            print((j + 1) + (i - 1), end=' ')\n",
    "        print()\n",
    "\n",
    "pattern_9()"
   ]
  },
  {
   "cell_type": "markdown",
   "id": "b8e8a0a0",
   "metadata": {},
   "source": [
    "### Pattern #10: Unique Pyramid Pattern of Digits"
   ]
  },
  {
   "cell_type": "code",
   "execution_count": 49,
   "id": "5e9eba1c-0fea-4a7f-9477-b3b4f2b2b490",
   "metadata": {},
   "outputs": [
    {
     "name": "stdout",
     "output_type": "stream",
     "text": [
      "1 \n",
      "1 2 1 \n",
      "1 2 3 2 1 \n",
      "1 2 3 4 3 2 1 \n",
      "1 2 3 4 5 4 3 2 1 \n"
     ]
    }
   ],
   "source": [
    "def pattern_10():\n",
    "    for i in range(1, 6):\n",
    "        for j in range(1, i + 1):\n",
    "            print(j, end=' ')\n",
    "        for j in range(i - 1, 0, -1):\n",
    "            print(j, end=' ')\n",
    "        print()\n",
    "\n",
    "pattern_10()"
   ]
  },
  {
   "cell_type": "markdown",
   "id": "0562ee73",
   "metadata": {},
   "source": [
    "### Pattern #11: Connected Inverted Pyramid Pattern of Numbers"
   ]
  },
  {
   "cell_type": "code",
   "execution_count": 51,
   "id": "ba1f5800-2792-4dfa-9783-e5af8b57d1e8",
   "metadata": {},
   "outputs": [
    {
     "name": "stdout",
     "output_type": "stream",
     "text": [
      "5 2 3 4 5 \n",
      "5 4 2 3 4 \n",
      "5 4 3 2 3 \n",
      "5 4 3 2 2 \n",
      "5 4 3 2 1 \n"
     ]
    }
   ],
   "source": [
    "def pattern_11():\n",
    "    for i in range(5, 0, -1):\n",
    "        for j in range(5, i - 1, -1):\n",
    "            print(j, end=' ')\n",
    "        for j in range(2, i + 1):\n",
    "            print(j, end=' ')\n",
    "        print()\n",
    "\n",
    "pattern_11()"
   ]
  },
  {
   "cell_type": "markdown",
   "id": "41ac75f0",
   "metadata": {},
   "source": [
    "### Pattern #12: Even Number Pyramid Pattern"
   ]
  },
  {
   "cell_type": "code",
   "execution_count": 53,
   "id": "1413ba8c-da14-4167-b257-fcfe2604f02e",
   "metadata": {},
   "outputs": [
    {
     "name": "stdout",
     "output_type": "stream",
     "text": [
      "10 \n",
      "10 8 \n",
      "10 8 6 \n",
      "10 8 6 4 \n",
      "10 8 6 4 2 \n"
     ]
    }
   ],
   "source": [
    "def pattern_12():\n",
    "    for i in range(1, 6):\n",
    "        for j in range(i):\n",
    "            print(10 - (j * 2), end=' ')\n",
    "        print()\n",
    "\n",
    "pattern_12()"
   ]
  },
  {
   "cell_type": "markdown",
   "id": "abacb211",
   "metadata": {},
   "source": [
    "### Pattern #13: Pyramid of Horizontal Tables"
   ]
  },
  {
   "cell_type": "code",
   "execution_count": 55,
   "id": "52d29fa8-a0c2-4cbb-98fb-58e34d08e077",
   "metadata": {},
   "outputs": [
    {
     "name": "stdout",
     "output_type": "stream",
     "text": [
      "0 \n",
      "0 1 \n",
      "0 2 4 \n",
      "0 3 6 9 \n",
      "0 4 8 12 16 \n",
      "0 5 10 15 20 25 \n",
      "0 6 12 18 24 30 36 \n"
     ]
    }
   ],
   "source": [
    "def pattern_13():\n",
    "    for i in range(7):\n",
    "        for j in range(i + 1):\n",
    "            print(i * j, end=' ')\n",
    "        print()\n",
    "\n",
    "pattern_13()"
   ]
  },
  {
   "cell_type": "markdown",
   "id": "485a776d",
   "metadata": {},
   "source": [
    "### Pattern #14: Pyramid Pattern of Alternate Numbers"
   ]
  },
  {
   "cell_type": "code",
   "execution_count": 57,
   "id": "4864c993-5c68-454a-a4af-c7e42e3aebfc",
   "metadata": {},
   "outputs": [
    {
     "name": "stdout",
     "output_type": "stream",
     "text": [
      "1 \n",
      "3 3 3 \n",
      "5 5 5 5 5 \n",
      "7 7 7 7 7 7 7 \n",
      "9 9 9 9 9 9 9 9 9 \n"
     ]
    }
   ],
   "source": [
    "def pattern_14():\n",
    "    for i in range(1, 10, 2):\n",
    "        for j in range(i):\n",
    "            print(i, end=' ')\n",
    "        print()\n",
    "\n",
    "pattern_14()"
   ]
  },
  {
   "cell_type": "markdown",
   "id": "910d31c3",
   "metadata": {},
   "source": [
    "### Pattern #15: Mirrored Pyramid (Right-angled Triangle) Pattern of Numbers"
   ]
  },
  {
   "cell_type": "code",
   "execution_count": 59,
   "id": "a789bc1e-3665-491c-8def-5f82fff40014",
   "metadata": {},
   "outputs": [
    {
     "name": "stdout",
     "output_type": "stream",
     "text": [
      "    1\n",
      "   1 2\n",
      "  1 2 3\n",
      " 1 2 3 4\n",
      "1 2 3 4 5\n"
     ]
    }
   ],
   "source": [
    "def pattern_15():\n",
    "    for i in range(1, 6):\n",
    "        print(' ' * (5 - i) + ' '.join(str(x) for x in range(1, i + 1)))\n",
    "\n",
    "pattern_15()"
   ]
  },
  {
   "cell_type": "markdown",
   "id": "b8185a1a",
   "metadata": {},
   "source": [
    "### Pattern #16: Equilateral Triangle with Stars (Asterisk Symbol)"
   ]
  },
  {
   "cell_type": "code",
   "execution_count": 61,
   "id": "cfd90032-5452-47f8-9658-13b1138f2220",
   "metadata": {},
   "outputs": [
    {
     "name": "stdout",
     "output_type": "stream",
     "text": [
      "      * \n",
      "     * * \n",
      "    * * * \n",
      "   * * * * \n",
      "  * * * * * \n",
      " * * * * * * \n",
      "* * * * * * * \n"
     ]
    }
   ],
   "source": [
    "def pattern_16():\n",
    "    for i in range(1, 8):\n",
    "        print(' ' * (7 - i) + '* ' * i)\n",
    "\n",
    "pattern_16()"
   ]
  },
  {
   "cell_type": "markdown",
   "id": "627a0a26",
   "metadata": {},
   "source": [
    "### Pattern #17: Downward Triangle Pattern of Stars"
   ]
  },
  {
   "cell_type": "code",
   "execution_count": 63,
   "id": "b53e06af-1432-456b-86a4-75c5ee894db9",
   "metadata": {},
   "outputs": [
    {
     "name": "stdout",
     "output_type": "stream",
     "text": [
      "* * * * * * \n",
      " * * * * * \n",
      "  * * * * \n",
      "   * * * \n",
      "    * * \n",
      "     * \n"
     ]
    }
   ],
   "source": [
    "def pattern_17():\n",
    "    for i in range(6, 0, -1):\n",
    "        print(' ' * (6 - i) + '* ' * i)\n",
    "\n",
    "pattern_17()"
   ]
  },
  {
   "cell_type": "markdown",
   "id": "a2d14614",
   "metadata": {},
   "source": [
    "### Pattern #18: Pyramid Pattern of Stars"
   ]
  },
  {
   "cell_type": "code",
   "execution_count": 65,
   "id": "d6120254-750a-487e-991b-175d54f36ed2",
   "metadata": {},
   "outputs": [
    {
     "name": "stdout",
     "output_type": "stream",
     "text": [
      "* \n",
      "* * \n",
      "* * * \n",
      "* * * * \n",
      "* * * * * \n"
     ]
    }
   ],
   "source": [
    "def pattern_18():\n",
    "    for i in range(1, 6):\n",
    "        print('* ' * i)\n",
    "\n",
    "pattern_18()"
   ]
  },
  {
   "cell_type": "markdown",
   "id": "49bc9010-8cfc-4ba2-8e55-16fa47909d29",
   "metadata": {},
   "source": [
    "### Q2) Write a program in python to do the following\n",
    "### A. To separate the following string into comma (,) separated values. X= “ India.is.my.country”\n",
    "### B. To remove a given character from a string. Y=”M.A.N.I.P.A.L” \n",
    "### C. To remove the (.) dots from the above string."
   ]
  },
  {
   "cell_type": "code",
   "execution_count": 72,
   "id": "4aa49f58-39f8-4093-a2d4-e4815162d7e4",
   "metadata": {},
   "outputs": [
    {
     "name": "stdout",
     "output_type": "stream",
     "text": [
      "Comma separated values: ['India', 'is', 'my', 'country']\n",
      "String after removing 'A': M..N.I.P..L\n",
      "String after removing dots: MANIPAL\n"
     ]
    }
   ],
   "source": [
    "X = \"India.is.my.country\"\n",
    "comma_separated_values = X.split(\".\")\n",
    "print(\"Comma separated values:\", comma_separated_values)\n",
    "\n",
    "Y = \"M.A.N.I.P.A.L\"\n",
    "char_to_remove = \"A\"\n",
    "Y_without_char = Y.replace(char_to_remove, \"\")\n",
    "print(\"String after removing 'A':\", Y_without_char)\n",
    "\n",
    "Y_without_dots = Y.replace(\".\", \"\")\n",
    "print(\"String after removing dots:\", Y_without_dots)"
   ]
  },
  {
   "cell_type": "markdown",
   "id": "465754ef-e0aa-4d45-91d4-d1389a7f4bd6",
   "metadata": {},
   "source": [
    "### Q3)Write a program to sort strings alphabetically in python."
   ]
  },
  {
   "cell_type": "code",
   "execution_count": 75,
   "id": "5074d031-4ca0-4a63-9d5a-a6e3f28359d7",
   "metadata": {},
   "outputs": [
    {
     "name": "stdout",
     "output_type": "stream",
     "text": [
      "Original list of strings:\n",
      "['banana', 'apple', 'orange', 'grape', 'kiwi']\n",
      "Sorted list of strings:\n",
      "['apple', 'banana', 'grape', 'kiwi', 'orange']\n"
     ]
    }
   ],
   "source": [
    "strings = [\"banana\", \"apple\", \"orange\", \"grape\", \"kiwi\"]\n",
    "\n",
    "print(\"Original list of strings:\")\n",
    "print(strings)\n",
    "\n",
    "strings.sort()\n",
    "\n",
    "print(\"Sorted list of strings:\")\n",
    "print(strings)"
   ]
  },
  {
   "cell_type": "markdown",
   "id": "a6274318-9fae-43a8-b570-473380c3560c",
   "metadata": {},
   "source": [
    "### Q4)write a program in python to take an input from a user as a string then, reverse it."
   ]
  },
  {
   "cell_type": "code",
   "execution_count": 78,
   "id": "689ca868-9187-4a88-b639-4a112ad6f826",
   "metadata": {},
   "outputs": [
    {
     "name": "stdout",
     "output_type": "stream",
     "text": [
      "Please enter a string:  apple\n"
     ]
    },
    {
     "name": "stdout",
     "output_type": "stream",
     "text": [
      "Reversed string: elppa\n"
     ]
    }
   ],
   "source": [
    "user_input = input(\"Please enter a string: \")\n",
    "\n",
    "reversed_string = user_input[::-1]\n",
    "\n",
    "print(\"Reversed string:\", reversed_string)"
   ]
  },
  {
   "cell_type": "markdown",
   "id": "72077118-7a6e-470c-be1c-6215b7608c78",
   "metadata": {},
   "source": [
    "### Q5)Write a program in python to check if a string contains only digits."
   ]
  },
  {
   "cell_type": "code",
   "execution_count": 81,
   "id": "3ed588c6-0ded-44db-aee8-3cd238196d98",
   "metadata": {},
   "outputs": [
    {
     "name": "stdout",
     "output_type": "stream",
     "text": [
      "Enter a string to check if it contains only digits:  890\n"
     ]
    },
    {
     "name": "stdout",
     "output_type": "stream",
     "text": [
      "The string contains only digits.\n"
     ]
    }
   ],
   "source": [
    "def is_string_numeric(input_string):\n",
    "    if input_string == \"\":\n",
    "        return False\n",
    "    \n",
    "    for char in input_string:\n",
    "        if not char.isdigit():\n",
    "            return False\n",
    "    return True\n",
    "\n",
    "user_input = input(\"Enter a string to check if it contains only digits: \")\n",
    "\n",
    "if is_string_numeric(user_input):\n",
    "    print(\"The string contains only digits.\")\n",
    "else:\n",
    "    print(\"The string contains non-digit characters.\")"
   ]
  },
  {
   "cell_type": "markdown",
   "id": "6b3712f5-0d9a-4ea0-a2d6-321392d38403",
   "metadata": {},
   "source": [
    "### Q6)Write a program in python to find the number of vowels in the string."
   ]
  },
  {
   "cell_type": "code",
   "execution_count": 84,
   "id": "8073d254-c214-4905-a091-db006a9ffaa8",
   "metadata": {},
   "outputs": [
    {
     "name": "stdout",
     "output_type": "stream",
     "text": [
      "Enter a string:  pizza\n"
     ]
    },
    {
     "name": "stdout",
     "output_type": "stream",
     "text": [
      "Number of vowels: 2\n"
     ]
    }
   ],
   "source": [
    "def count_vowels(s):\n",
    "    vowels = \"aeiouAEIOU\"\n",
    "    count = 0\n",
    "    for letter in s:\n",
    "        if letter in vowels:\n",
    "            count += 1\n",
    "    return count\n",
    "\n",
    "string = input(\"Enter a string: \")\n",
    "number_of_vowels = count_vowels(string)\n",
    "print(\"Number of vowels:\", number_of_vowels)"
   ]
  }
 ],
 "metadata": {
  "kernelspec": {
   "display_name": "anaconda-2022.05-py39",
   "language": "python",
   "name": "conda-env-anaconda-2022.05-py39-py"
  },
  "language_info": {
   "codemirror_mode": {
    "name": "ipython",
    "version": 3
   },
   "file_extension": ".py",
   "mimetype": "text/x-python",
   "name": "python",
   "nbconvert_exporter": "python",
   "pygments_lexer": "ipython3",
   "version": "3.9.12"
  }
 },
 "nbformat": 4,
 "nbformat_minor": 5
}
