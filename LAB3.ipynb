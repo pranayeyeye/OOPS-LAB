{
 "cells": [
  {
   "cell_type": "markdown",
   "id": "ecfde13a-71e5-46d1-84b7-210659eb4cd2",
   "metadata": {},
   "source": [
    "### Q1)WAP in python for calculator operation by choice of user"
   ]
  },
  {
   "cell_type": "code",
   "execution_count": 23,
   "id": "402744ae-f3bf-4156-a3f3-d05b8eebab90",
   "metadata": {},
   "outputs": [
    {
     "name": "stdout",
     "output_type": "stream",
     "text": [
      "1. Add\n",
      "2. Subtract\n",
      "3. Multiply\n",
      "4. Divide\n"
     ]
    },
    {
     "name": "stdin",
     "output_type": "stream",
     "text": [
      "Enter choice:  3\n",
      "Enter first number:  10\n",
      "Enter second number:  11\n"
     ]
    },
    {
     "name": "stdout",
     "output_type": "stream",
     "text": [
      "110.0\n"
     ]
    }
   ],
   "source": [
    "print(\"1. Add\")\n",
    "print(\"2. Subtract\")\n",
    "print(\"3. Multiply\")\n",
    "print(\"4. Divide\")\n",
    "\n",
    "choice = input(\"Enter choice: \")\n",
    "num1 = float(input(\"Enter first number: \"))\n",
    "num2 = float(input(\"Enter second number: \"))\n",
    "\n",
    "if choice == '1':\n",
    "    print(num1 + num2)\n",
    "elif choice == '2':\n",
    "    print(num1 - num2)\n",
    "elif choice == '3':\n",
    "    print(num1 * num2)\n",
    "elif choice == '4':\n",
    "    if num2 != 0:\n",
    "        print(num1 / num2)\n",
    "    else:\n",
    "        print(\"Cannot divide by zero\")\n",
    "else:\n",
    "    print(\"Invalid choice\")"
   ]
  },
  {
   "cell_type": "markdown",
   "id": "1dedacac-fc7c-45a8-8691-9e4fa14ff065",
   "metadata": {},
   "source": [
    "### Q2) WAP in python for calculating factorial of n numbers from (1 to n)"
   ]
  },
  {
   "cell_type": "code",
   "execution_count": 14,
   "id": "9506055f-472a-4b32-8050-2ecf90cd2e5a",
   "metadata": {},
   "outputs": [
    {
     "name": "stdin",
     "output_type": "stream",
     "text": [
      "Enter a number: 5\n"
     ]
    },
    {
     "name": "stdout",
     "output_type": "stream",
     "text": [
      "Factorial of 1 is 1\n",
      "Factorial of 2 is 2\n",
      "Factorial of 3 is 6\n",
      "Factorial of 4 is 24\n",
      "Factorial of 5 is 120\n"
     ]
    }
   ],
   "source": [
    "import math\n",
    "n = int(input(\"Enter a number:\"))\n",
    "\n",
    "for i in range(1, n+1):\n",
    "    print(\"Factorial of\" ,i, \"is\",math.factorial(i))"
   ]
  },
  {
   "cell_type": "markdown",
   "id": "149cd5e9-1fb5-41da-821f-1a73249e4f3f",
   "metadata": {},
   "source": [
    "### Q3) WAP in python for printing Fibonacci series from 1 to 100"
   ]
  },
  {
   "cell_type": "code",
   "execution_count": 18,
   "id": "96aa4e82-15dc-43c7-b2a9-c37119f669e7",
   "metadata": {},
   "outputs": [
    {
     "name": "stdout",
     "output_type": "stream",
     "text": [
      "0 1 1 2 3 5 8 13 21 34 55 89 "
     ]
    }
   ],
   "source": [
    "a = 0\n",
    "b = 1\n",
    "\n",
    "while a <= 100:\n",
    "    print(a,end=' ')\n",
    "    a , b=b , a+b"
   ]
  },
  {
   "cell_type": "markdown",
   "id": "231ab9b4-b73b-4b0d-88e1-a725ee45cb2a",
   "metadata": {},
   "source": [
    "### Q4)WAP in python to check if a number is strong number or not"
   ]
  },
  {
   "cell_type": "code",
   "execution_count": 40,
   "id": "d65450cc-2a36-43f6-a8b5-3a4442587ef7",
   "metadata": {},
   "outputs": [
    {
     "name": "stdin",
     "output_type": "stream",
     "text": [
      "Enter a number:  145\n"
     ]
    },
    {
     "name": "stdout",
     "output_type": "stream",
     "text": [
      "It is a strong number\n"
     ]
    }
   ],
   "source": [
    "import math\n",
    "\n",
    "n = int(input(\"Enter a number: \"))\n",
    "num = n\n",
    "sum_factorial = 0\n",
    "while num > 0:\n",
    "    digit = num%10\n",
    "    sum_factorial += math.factorial(digit)\n",
    "    num = num//10\n",
    "\n",
    "if sum_factorial == n:\n",
    "    print(\"It is a strong number\")\n",
    "else:\n",
    "    print(\"It is not a strong number\")\n",
    "    "
   ]
  }
 ],
 "metadata": {
  "kernelspec": {
   "display_name": "anaconda-panel-2023.05-py310",
   "language": "python",
   "name": "conda-env-anaconda-panel-2023.05-py310-py"
  },
  "language_info": {
   "codemirror_mode": {
    "name": "ipython",
    "version": 3
   },
   "file_extension": ".py",
   "mimetype": "text/x-python",
   "name": "python",
   "nbconvert_exporter": "python",
   "pygments_lexer": "ipython3",
   "version": "3.11.5"
  }
 },
 "nbformat": 4,
 "nbformat_minor": 5
}
