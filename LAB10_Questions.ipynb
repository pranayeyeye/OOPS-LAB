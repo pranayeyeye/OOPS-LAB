{
 "cells": [
  {
   "cell_type": "code",
   "execution_count": 1,
   "id": "15099848-6ffe-4b25-b2ff-a395290bfd1d",
   "metadata": {},
   "outputs": [
    {
     "name": "stdout",
     "output_type": "stream",
     "text": [
      "2\n"
     ]
    }
   ],
   "source": [
    "def binary_search(arr, target):\n",
    "    left, right = 0, len(arr) - 1\n",
    "    while left <= right:\n",
    "        mid = (left + right) // 2\n",
    "        if arr[mid] == target:\n",
    "            return mid\n",
    "        elif arr[mid] < target:\n",
    "            left = mid + 1\n",
    "        else:\n",
    "            right = mid - 1\n",
    "    return -1\n",
    "\n",
    "arr = [1, 3, 5, 7, 9]\n",
    "target = 5\n",
    "print(binary_search(arr, target))  "
   ]
  },
  {
   "cell_type": "code",
   "execution_count": 15,
   "id": "904bc684-f561-4743-ad04-b3fb56d1ca3d",
   "metadata": {},
   "outputs": [
    {
     "name": "stdout",
     "output_type": "stream",
     "text": [
      "[20, 30, 40, 50, 60, 70, 80]\n"
     ]
    }
   ],
   "source": [
    "class Node:\n",
    "    def __init__(self, key):\n",
    "        self.key = key\n",
    "        self.left = None\n",
    "        self.right = None\n",
    "\n",
    "class BinaryTree:\n",
    "    def __init__(self):\n",
    "        self.root = None\n",
    "\n",
    "    def insert(self, key):\n",
    "        if self.root is None:\n",
    "            self.root = Node(key)\n",
    "        else:\n",
    "            self._insert(self.root, key)\n",
    "\n",
    "    def _insert(self, current, key):\n",
    "        if key < current.key:\n",
    "            if current.left is None:\n",
    "                current.left = Node(key)\n",
    "            else:\n",
    "                self._insert(current.left, key)\n",
    "        else:\n",
    "            if current.right is None:\n",
    "                current.right = Node(key)\n",
    "            else:\n",
    "                self._insert(current.right, key)\n",
    "\n",
    "    def inorder_traversal(self):\n",
    "        result = []\n",
    "        self._inorder(self.root, result)\n",
    "        return result\n",
    "\n",
    "    def _inorder(self, node, result):\n",
    "        if node:\n",
    "            self._inorder(node.left, result)\n",
    "            result.append(node.key)\n",
    "            self._inorder(node.right, result)\n",
    "\n",
    "tree = BinaryTree()\n",
    "tree.insert(50)\n",
    "tree.insert(30)\n",
    "tree.insert(70)\n",
    "tree.insert(20)\n",
    "tree.insert(40)\n",
    "tree.insert(60)\n",
    "tree.insert(80)\n",
    "print(tree.inorder_traversal())"
   ]
  },
  {
   "cell_type": "code",
   "execution_count": 5,
   "id": "302ba4c5-a2c4-4c98-88c3-48b15e626c06",
   "metadata": {},
   "outputs": [
    {
     "name": "stdout",
     "output_type": "stream",
     "text": [
      "[11, 12, 22, 25, 34, 64, 90]\n"
     ]
    }
   ],
   "source": [
    "class BubbleSort:\n",
    "    def __init__(self, data):\n",
    "        self.data = data  # Initialize the class with the input data array.\n",
    "\n",
    "    def sort(self):\n",
    "        n = len(self.data) \n",
    "        for i in range(n):  \n",
    "            for j in range(0, n - i - 1):  # Inner loop avoids already sorted elements.\n",
    "                if self.data[j] > self.data[j + 1]: \n",
    "                    self.data[j], self.data[j + 1] = self.data[j + 1], self.data[j] \n",
    "\n",
    "    def get_sorted_data(self):\n",
    "        return self.data \n",
    "\n",
    "data = [64, 34, 25, 12, 22, 11, 90]\n",
    "bubble_sort = BubbleSort(data)  # Create an object with the input data.\n",
    "bubble_sort.sort()  # Call the sort method to sort the data.\n",
    "print(bubble_sort.get_sorted_data())  # Print the sorted data."
   ]
  },
  {
   "cell_type": "code",
   "execution_count": 7,
   "id": "4109dd60-8420-4b9a-a848-e9fe062d7db9",
   "metadata": {},
   "outputs": [
    {
     "name": "stdout",
     "output_type": "stream",
     "text": [
      "[5, 6, 11, 12, 13]\n"
     ]
    }
   ],
   "source": [
    "class InsertionSort:\n",
    "    def __init__(self, data):\n",
    "        self.data = data \n",
    "\n",
    "    def sort(self):\n",
    "        for i in range(1, len(self.data)): \n",
    "            key = self.data[i]  # The element to be positioned correctly.\n",
    "            j = i - 1\n",
    "            while j >= 0 and key < self.data[j]:  # Compare key with each element to its left.\n",
    "                self.data[j + 1] = self.data[j]  # Shift elements to the right to make space for the key.\n",
    "                j -= 1\n",
    "            self.data[j + 1] = key  # Place the key in its correct position.\n",
    "\n",
    "    def get_sorted_data(self):\n",
    "        return self.data  \n",
    "\n",
    "data = [12, 11, 13, 5, 6]\n",
    "insertion_sort = InsertionSort(data)  # Create an object with the input data.\n",
    "insertion_sort.sort()  # Call the sort method to sort the data.\n",
    "print(insertion_sort.get_sorted_data()) "
   ]
  },
  {
   "cell_type": "code",
   "execution_count": 9,
   "id": "df3d1c45-6c68-4085-b2e6-1a6e4865f81a",
   "metadata": {},
   "outputs": [
    {
     "name": "stdout",
     "output_type": "stream",
     "text": [
      "2\n"
     ]
    }
   ],
   "source": [
    "def linear_search(arr, target):\n",
    "    for index, value in enumerate(arr): \n",
    "        if value == target: \n",
    "            return index  \n",
    "    return -1  \n",
    "\n",
    "arr = [2, 4, 6, 8, 10]\n",
    "target = 6\n",
    "print(linear_search(arr, target)) "
   ]
  },
  {
   "cell_type": "code",
   "execution_count": 11,
   "id": "9c0532e3-4a87-4d5e-aa71-9931e52333d4",
   "metadata": {},
   "outputs": [
    {
     "name": "stdout",
     "output_type": "stream",
     "text": [
      "[3, 9, 10, 27, 38, 43, 82]\n"
     ]
    }
   ],
   "source": [
    "class MergeSort:\n",
    "    def __init__(self, data):\n",
    "        self.data = data  \n",
    "\n",
    "    def sort(self):\n",
    "        self.data = self._merge_sort(self.data)  # Start the merge sort process.\n",
    "\n",
    "    def _merge_sort(self, arr):\n",
    "        if len(arr) <= 1:  # Base case: a list with one element is already sorted.\n",
    "            return arr\n",
    "        \n",
    "        # Split the array into two halves.\n",
    "        mid = len(arr) // 2\n",
    "        left_half = arr[:mid]\n",
    "        right_half = arr[mid:]\n",
    "\n",
    "        # Recursively sort both halves and merge them.\n",
    "        left_sorted = self._merge_sort(left_half)\n",
    "        right_sorted = self._merge_sort(right_half)\n",
    "\n",
    "        # Merge the sorted halves and return.\n",
    "        return self._merge(left_sorted, right_sorted)\n",
    "\n",
    "    def _merge(self, left, right):\n",
    "        merged = []\n",
    "        i = j = 0\n",
    "\n",
    "        # Merge two sorted lists into one.\n",
    "        while i < len(left) and j < len(right):\n",
    "            if left[i] < right[j]:\n",
    "                merged.append(left[i])\n",
    "                i += 1\n",
    "            else:\n",
    "                merged.append(right[j])\n",
    "                j += 1\n",
    "        \n",
    "        # If there are any remaining elements in either list, append them.\n",
    "        merged.extend(left[i:])\n",
    "        merged.extend(right[j:])\n",
    "        \n",
    "        return merged\n",
    "\n",
    "    def get_sorted_data(self):\n",
    "        return self.data \n",
    "\n",
    "data = [38, 27, 43, 3, 9, 82, 10]\n",
    "merge_sort = MergeSort(data)  # Create an object with the input data.\n",
    "merge_sort.sort()  # Call the sort method to sort the data.\n",
    "print(merge_sort.get_sorted_data())  # Print the sorted data."
   ]
  },
  {
   "cell_type": "code",
   "execution_count": 13,
   "id": "e6fb9ae9-4987-487c-9317-db896788a7bb",
   "metadata": {},
   "outputs": [
    {
     "name": "stdout",
     "output_type": "stream",
     "text": [
      "[11, 12, 22, 25, 64]\n"
     ]
    }
   ],
   "source": [
    "class SelectionSort:\n",
    "    def __init__(self, data):\n",
    "        self.data = data \n",
    "\n",
    "    def sort(self):\n",
    "        n = len(self.data) \n",
    "        for i in range(n): \n",
    "            min_idx = i  \n",
    "            for j in range(i + 1, n):  \n",
    "                if self.data[j] < self.data[min_idx]: \n",
    "                    min_idx = j\n",
    "            self.data[i], self.data[min_idx] = self.data[min_idx], self.data[i]  \n",
    "\n",
    "    def get_sorted_data(self):\n",
    "        return self.data  \n",
    "\n",
    "data = [64, 25, 12, 22, 11]\n",
    "selection_sort = SelectionSort(data)  # Create an object with the input data.\n",
    "selection_sort.sort()  # Call the sort method to sort the data.\n",
    "print(selection_sort.get_sorted_data())  # Print the sorted data."
   ]
  }
 ],
 "metadata": {
  "kernelspec": {
   "display_name": "anaconda-2024.02-py310",
   "language": "python",
   "name": "conda-env-anaconda-2024.02-py310-py"
  },
  "language_info": {
   "codemirror_mode": {
    "name": "ipython",
    "version": 3
   },
   "file_extension": ".py",
   "mimetype": "text/x-python",
   "name": "python",
   "nbconvert_exporter": "python",
   "pygments_lexer": "ipython3",
   "version": "3.10.14"
  }
 },
 "nbformat": 4,
 "nbformat_minor": 5
}
