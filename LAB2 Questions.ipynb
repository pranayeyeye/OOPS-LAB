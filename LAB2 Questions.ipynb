{
 "cells": [
  {
   "cell_type": "markdown",
   "id": "40fa8ddd-f119-4dab-acfb-8b1d2307d953",
   "metadata": {},
   "source": [
    "### Lab 1: Decision-making statement and Nested if-else\n",
    "\n"
   ]
  },
  {
   "cell_type": "markdown",
   "id": "6b346474-1fa9-495e-a711-a748ccbec31a",
   "metadata": {},
   "source": [
    "### Q1) WAP to find if a number is Prime or not."
   ]
  },
  {
   "cell_type": "code",
   "execution_count": 2,
   "id": "1a1834dd-ec09-480a-9404-5500b17e4263",
   "metadata": {},
   "outputs": [
    {
     "name": "stdin",
     "output_type": "stream",
     "text": [
      "Enter a number: 3\n"
     ]
    },
    {
     "name": "stdout",
     "output_type": "stream",
     "text": [
      "It is a prime number\n"
     ]
    }
   ],
   "source": [
    "n = int(input(\"Enter a number:\"))\n",
    "if n<=1:\n",
    "    Print(\"It is not a prime number\")\n",
    "else:\n",
    "    is_prime=True\n",
    "    for i in range(2,int(n**0.5)+1):\n",
    "        if n% i == 0:\n",
    "            is_prime = False\n",
    "            break\n",
    "if is_prime:\n",
    "    print(\"It is a prime number\")\n",
    "else:\n",
    "    print(\"It is not a prime number\")\n",
    "        \n",
    "    "
   ]
  },
  {
   "cell_type": "markdown",
   "id": "3c776554-dac7-4457-96db-4ae28a806f16",
   "metadata": {},
   "source": [
    "### Q2)WAP to find if a given number is palindrome or not"
   ]
  },
  {
   "cell_type": "code",
   "execution_count": 4,
   "id": "5aaab275-de4e-4407-971f-b62940a4dcbe",
   "metadata": {},
   "outputs": [
    {
     "name": "stdin",
     "output_type": "stream",
     "text": [
      "Enter the number 145\n"
     ]
    },
    {
     "name": "stdout",
     "output_type": "stream",
     "text": [
      "It is not a palindrome\n"
     ]
    }
   ],
   "source": [
    "n = input(\"Enter the number\")\n",
    "is_palindrome = True\n",
    "length = len(n)\n",
    "\n",
    "for i in range(length//2):\n",
    "    if n[i] != n[length-i-1]:\n",
    "       is_palindrome = False\n",
    "       break\n",
    "if is_palindrome:\n",
    "    print(\"It is a palindrome\")\n",
    "else:\n",
    "    print(\"It is not a palindrome\")"
   ]
  },
  {
   "cell_type": "markdown",
   "id": "dd30a2ad-0e22-4928-b1f7-e586a7d5e083",
   "metadata": {},
   "source": [
    "### Q3)WAP to find grade of student using given percentage"
   ]
  },
  {
   "cell_type": "code",
   "execution_count": 6,
   "id": "4696d03f-03bd-4c4e-ad6a-5341f2f9801d",
   "metadata": {},
   "outputs": [
    {
     "name": "stdin",
     "output_type": "stream",
     "text": [
      "Enter Mth Marks :  90\n",
      "Enter Phy Marks :  98\n",
      "Enter Chem Marks :  76\n",
      "Enter Bio Marks :  56\n",
      "Enter Hindi Marks :  99\n"
     ]
    },
    {
     "name": "stdout",
     "output_type": "stream",
     "text": [
      "83.8\n",
      "Grade is B+\n"
     ]
    }
   ],
   "source": [
    "Math=int(input('Enter Mth Marks : '))\n",
    "Phy=int(input('Enter Phy Marks : '))\n",
    "CHem=int(input('Enter Chem Marks : '))\n",
    "Bio=int(input('Enter Bio Marks : '))\n",
    "Hindi=int(input('Enter Hindi Marks : '))\n",
    "ToTal_Percentage=float((Math+Phy+CHem+Bio+Hindi))/500 * 100\n",
    "print(ToTal_Percentage)\n",
    "if ToTal_Percentage>90:\n",
    "    print('Grade is A+')\n",
    "elif 70<ToTal_Percentage<=80:\n",
    "    print('Grade is A')\n",
    "elif ToTal_Percentage>70:\n",
    "    print('Grade is B+')\n",
    "elif ToTal_Percentage>60:\n",
    "    print('Grade is B')\n",
    "elif ToTal_Percentage>50:\n",
    "    print('Grade is C')\n",
    "elif ToTal_Percentage>40:\n",
    "    print('Grade is D')\n",
    "elif ToTal_Percentage>35:\n",
    "    print('Grade is E')\n",
    "else :\n",
    "    print('Grade is F')"
   ]
  },
  {
   "cell_type": "markdown",
   "id": "8b7959c8-daa6-4453-90c4-b959025984f0",
   "metadata": {},
   "source": [
    "### Q4)WAP to create a simple console based calculator\n"
   ]
  },
  {
   "cell_type": "code",
   "execution_count": 8,
   "id": "fefae06f-b8b6-41aa-9850-9b0e5014c449",
   "metadata": {},
   "outputs": [
    {
     "name": "stdout",
     "output_type": "stream",
     "text": [
      "1. Add\n",
      "2. Subtract\n",
      "3. Multiply\n",
      "4. Divide\n"
     ]
    },
    {
     "name": "stdin",
     "output_type": "stream",
     "text": [
      "Enter choice:  3\n",
      "Enter first number:  89\n",
      "Enter second number:  867\n"
     ]
    },
    {
     "name": "stdout",
     "output_type": "stream",
     "text": [
      "77163.0\n"
     ]
    }
   ],
   "source": [
    "print(\"1. Add\")\n",
    "print(\"2. Subtract\")\n",
    "print(\"3. Multiply\")\n",
    "print(\"4. Divide\")\n",
    "\n",
    "choice = input(\"Enter choice: \")\n",
    "num1 = float(input(\"Enter first number: \"))\n",
    "num2 = float(input(\"Enter second number: \"))\n",
    "\n",
    "if choice == '1':\n",
    "    print(num1 + num2)\n",
    "elif choice == '2':\n",
    "    print(num1 - num2)\n",
    "elif choice == '3':\n",
    "    print(num1 * num2)\n",
    "elif choice == '4':\n",
    "    if num2 != 0:\n",
    "        print(num1 / num2)\n",
    "    else:\n",
    "        print(\"Cannot divide by zero\")\n",
    "else:\n",
    "    print(\"Invalid choice\")\n"
   ]
  },
  {
   "cell_type": "markdown",
   "id": "0d132995-1f87-4f68-9c29-106ff5328b33",
   "metadata": {},
   "source": [
    "### Lab 2: Flow control and Loops \n"
   ]
  },
  {
   "cell_type": "markdown",
   "id": "d369da00-bef1-4202-a909-f54b3c8c68c1",
   "metadata": {},
   "source": [
    "### Q5)Write a program to Generate Fibonacci Series"
   ]
  },
  {
   "cell_type": "code",
   "execution_count": 49,
   "id": "4ea907cf-06e4-49d5-a0ee-865af2393d1d",
   "metadata": {},
   "outputs": [
    {
     "name": "stdin",
     "output_type": "stream",
     "text": [
      "Enter how many numbers of Finonacci series you want to generate:  11\n"
     ]
    },
    {
     "name": "stdout",
     "output_type": "stream",
     "text": [
      "0 1 1 2 3 5 8 13 21 34 55 "
     ]
    }
   ],
   "source": [
    "num_terms = int(input(\"Enter how many numbers of Finonacci series you want to generate: \"))\n",
    "\n",
    "if num_terms <= 0:\n",
    "    print(\"Please enter a number greater than 0\")\n",
    "else:\n",
    "    a = 0\n",
    "    b = 1\n",
    "    \n",
    "    if num_terms == 1:\n",
    "        print(a)\n",
    "    elif num_terms == 2:\n",
    "        print(a, b)\n",
    "    else:\n",
    "        print(a, b, end=\" \")\n",
    "        i = 3\n",
    "        while i <= num_terms:\n",
    "            c = a + b\n",
    "            print(c, end=\" \")\n",
    "            a = b\n",
    "            b = c\n",
    "            i += 1\n",
    "\n"
   ]
  },
  {
   "cell_type": "markdown",
   "id": "8831ebf8-fa24-4840-8484-e6087c5c67bc",
   "metadata": {},
   "source": [
    "### Q6)Write a program to Calculate Factorial Using a Loop"
   ]
  },
  {
   "cell_type": "code",
   "execution_count": 12,
   "id": "c17933e3-0f46-4eee-a7ee-5a244063f75e",
   "metadata": {},
   "outputs": [
    {
     "name": "stdin",
     "output_type": "stream",
     "text": [
      "Enter a number:  6\n"
     ]
    },
    {
     "name": "stdout",
     "output_type": "stream",
     "text": [
      "The factorial of 6 is 720\n"
     ]
    }
   ],
   "source": [
    "num = int(input(\"Enter a number: \"))\n",
    "result = 1\n",
    "for i in range(1, num + 1):\n",
    "    result *= i\n",
    "print(\"The factorial of\", num, \"is\", result)\n"
   ]
  },
  {
   "cell_type": "markdown",
   "id": "7812009b-cea9-43e9-beed-c29f3cd1fb86",
   "metadata": {},
   "source": [
    "### Q7)Write a program to check given number is Armstrong number or not"
   ]
  },
  {
   "cell_type": "code",
   "execution_count": 14,
   "id": "a4b304a5-c465-4d89-9056-23dce45eef29",
   "metadata": {},
   "outputs": [
    {
     "name": "stdin",
     "output_type": "stream",
     "text": [
      "Enter a number:  123\n"
     ]
    },
    {
     "name": "stdout",
     "output_type": "stream",
     "text": [
      "It is not an Armstrong number\n"
     ]
    }
   ],
   "source": [
    "num = int(input(\"Enter a number: \"))\n",
    "n_str = str(n)\n",
    "n_len = len(n_str)\n",
    "sum_power=0\n",
    "\n",
    "for i in n_str:\n",
    "    sum_power += int(i)**n_len\n",
    "\n",
    "if sum_power == n:\n",
    "    print(\"It is an Armstrong number\")\n",
    "else:\n",
    "    print(\"It is not an Armstrong number\") "
   ]
  },
  {
   "cell_type": "markdown",
   "id": "add9df11-e633-4e11-8206-6ca31a428dd5",
   "metadata": {},
   "source": [
    "### Q8)Write a program to check given number is the perfect number or not.\n"
   ]
  },
  {
   "cell_type": "code",
   "execution_count": 47,
   "id": "f5464a7d-1176-4548-b090-64a1461385b0",
   "metadata": {},
   "outputs": [
    {
     "name": "stdin",
     "output_type": "stream",
     "text": [
      "Enter a number:  35\n"
     ]
    },
    {
     "name": "stdout",
     "output_type": "stream",
     "text": [
      "35 is not a perfect number.\n"
     ]
    }
   ],
   "source": [
    "number = int(input(\"Enter a number: \"))\n",
    "\n",
    "sum_of_divisors = 0\n",
    "\n",
    "for i in range(1, number):\n",
    "    if number % i == 0:\n",
    "        sum_of_divisors += i\n",
    "\n",
    "if sum_of_divisors == number:\n",
    "    print(number, \"is a perfect number.\")\n",
    "else:\n",
    "    print(number, \"is not a perfect number.\")\n"
   ]
  },
  {
   "cell_type": "markdown",
   "id": "3f641897-0e43-4e9f-b838-dd6d3d018ba3",
   "metadata": {},
   "source": [
    "### Q9)Write a program to check given number is strong number of not.\n"
   ]
  },
  {
   "cell_type": "code",
   "execution_count": 18,
   "id": "85a8d95a-e86e-49c1-91e7-fe8ec6aa88a9",
   "metadata": {},
   "outputs": [
    {
     "name": "stdin",
     "output_type": "stream",
     "text": [
      "Enter a number:  145\n"
     ]
    },
    {
     "name": "stdout",
     "output_type": "stream",
     "text": [
      "It is a strong number\n"
     ]
    }
   ],
   "source": [
    "import math\n",
    "\n",
    "n = int(input(\"Enter a number: \"))\n",
    "temp = n\n",
    "sum_factorial = 0\n",
    "while temp>0:\n",
    "    digit = temp%10\n",
    "    sum_factorial += math.factorial(digit)\n",
    "    temp = temp//10\n",
    "\n",
    "if sum_factorial == n:\n",
    "    print(\"It is a strong number\")\n",
    "else:\n",
    "    print(\"It is not a strong number\")\n"
   ]
  },
  {
   "cell_type": "markdown",
   "id": "4f9146f1-33b3-4607-a544-af7b3abfd416",
   "metadata": {},
   "source": [
    "### Q10)Write a program to Print Multiplication Tables \n"
   ]
  },
  {
   "cell_type": "code",
   "execution_count": 38,
   "id": "76c9cd5a-cda7-40d9-890d-708b9a558915",
   "metadata": {},
   "outputs": [
    {
     "name": "stdin",
     "output_type": "stream",
     "text": [
      "Multipliaction tables start:  1\n",
      "Multiplication tables end :  10\n"
     ]
    },
    {
     "name": "stdout",
     "output_type": "stream",
     "text": [
      "\n",
      "Multiplication Table for 1:\n",
      "1 x 1 = 1\n",
      "1 x 2 = 2\n",
      "1 x 3 = 3\n",
      "1 x 4 = 4\n",
      "1 x 5 = 5\n",
      "1 x 6 = 6\n",
      "1 x 7 = 7\n",
      "1 x 8 = 8\n",
      "1 x 9 = 9\n",
      "1 x 10 = 10\n",
      "\n",
      "Multiplication Table for 2:\n",
      "2 x 1 = 2\n",
      "2 x 2 = 4\n",
      "2 x 3 = 6\n",
      "2 x 4 = 8\n",
      "2 x 5 = 10\n",
      "2 x 6 = 12\n",
      "2 x 7 = 14\n",
      "2 x 8 = 16\n",
      "2 x 9 = 18\n",
      "2 x 10 = 20\n",
      "\n",
      "Multiplication Table for 3:\n",
      "3 x 1 = 3\n",
      "3 x 2 = 6\n",
      "3 x 3 = 9\n",
      "3 x 4 = 12\n",
      "3 x 5 = 15\n",
      "3 x 6 = 18\n",
      "3 x 7 = 21\n",
      "3 x 8 = 24\n",
      "3 x 9 = 27\n",
      "3 x 10 = 30\n",
      "\n",
      "Multiplication Table for 4:\n",
      "4 x 1 = 4\n",
      "4 x 2 = 8\n",
      "4 x 3 = 12\n",
      "4 x 4 = 16\n",
      "4 x 5 = 20\n",
      "4 x 6 = 24\n",
      "4 x 7 = 28\n",
      "4 x 8 = 32\n",
      "4 x 9 = 36\n",
      "4 x 10 = 40\n",
      "\n",
      "Multiplication Table for 5:\n",
      "5 x 1 = 5\n",
      "5 x 2 = 10\n",
      "5 x 3 = 15\n",
      "5 x 4 = 20\n",
      "5 x 5 = 25\n",
      "5 x 6 = 30\n",
      "5 x 7 = 35\n",
      "5 x 8 = 40\n",
      "5 x 9 = 45\n",
      "5 x 10 = 50\n",
      "\n",
      "Multiplication Table for 6:\n",
      "6 x 1 = 6\n",
      "6 x 2 = 12\n",
      "6 x 3 = 18\n",
      "6 x 4 = 24\n",
      "6 x 5 = 30\n",
      "6 x 6 = 36\n",
      "6 x 7 = 42\n",
      "6 x 8 = 48\n",
      "6 x 9 = 54\n",
      "6 x 10 = 60\n",
      "\n",
      "Multiplication Table for 7:\n",
      "7 x 1 = 7\n",
      "7 x 2 = 14\n",
      "7 x 3 = 21\n",
      "7 x 4 = 28\n",
      "7 x 5 = 35\n",
      "7 x 6 = 42\n",
      "7 x 7 = 49\n",
      "7 x 8 = 56\n",
      "7 x 9 = 63\n",
      "7 x 10 = 70\n",
      "\n",
      "Multiplication Table for 8:\n",
      "8 x 1 = 8\n",
      "8 x 2 = 16\n",
      "8 x 3 = 24\n",
      "8 x 4 = 32\n",
      "8 x 5 = 40\n",
      "8 x 6 = 48\n",
      "8 x 7 = 56\n",
      "8 x 8 = 64\n",
      "8 x 9 = 72\n",
      "8 x 10 = 80\n",
      "\n",
      "Multiplication Table for 9:\n",
      "9 x 1 = 9\n",
      "9 x 2 = 18\n",
      "9 x 3 = 27\n",
      "9 x 4 = 36\n",
      "9 x 5 = 45\n",
      "9 x 6 = 54\n",
      "9 x 7 = 63\n",
      "9 x 8 = 72\n",
      "9 x 9 = 81\n",
      "9 x 10 = 90\n",
      "\n",
      "Multiplication Table for 10:\n",
      "10 x 1 = 10\n",
      "10 x 2 = 20\n",
      "10 x 3 = 30\n",
      "10 x 4 = 40\n",
      "10 x 5 = 50\n",
      "10 x 6 = 60\n",
      "10 x 7 = 70\n",
      "10 x 8 = 80\n",
      "10 x 9 = 90\n",
      "10 x 10 = 100\n"
     ]
    }
   ],
   "source": [
    "n = int(input(\"Multipliaction tables start: \"))\n",
    "m = int(input(\"Multiplication tables end : \"))\n",
    "\n",
    "for i in range(n, m + 1):\n",
    "    print(f\"\\nMultiplication Table for {i}:\")\n",
    "\n",
    "    for j in range(1, 11):\n",
    "        print(i, 'x', j, '=', i * j)\n"
   ]
  },
  {
   "cell_type": "markdown",
   "id": "8efc842e-420d-4eba-804b-01c9beab419c",
   "metadata": {},
   "source": [
    "### Q11)Write a program to Calculate the LCM and GCD of Two Numbers"
   ]
  },
  {
   "cell_type": "code",
   "execution_count": 45,
   "id": "8711d85b-1c4c-4141-8991-e5fa9b78bcc2",
   "metadata": {},
   "outputs": [
    {
     "name": "stdin",
     "output_type": "stream",
     "text": [
      "Enter the first number:  5\n",
      "Enter the second number:  15\n"
     ]
    },
    {
     "name": "stdout",
     "output_type": "stream",
     "text": [
      "GCD of 5 and 15 is: 5\n",
      "LCM of 5 and 15 is: 15\n"
     ]
    }
   ],
   "source": [
    "num1 = int(input(\"Enter the first number: \"))\n",
    "num2 = int(input(\"Enter the second number: \"))\n",
    "\n",
    "a, b = num1, num2\n",
    "while b != 0:\n",
    "    a, b = b, a % b\n",
    "gcd = a\n",
    "\n",
    "lcm = (num1 * num2) // gcd\n",
    "\n",
    "print(\"GCD of\", num1, \"and\", num2, \"is:\", gcd)\n",
    "print(\"LCM of\", num1, \"and\", num2, \"is:\", lcm)\n"
   ]
  }
 ],
 "metadata": {
  "kernelspec": {
   "display_name": "anaconda-panel-2023.05-py310",
   "language": "python",
   "name": "conda-env-anaconda-panel-2023.05-py310-py"
  },
  "language_info": {
   "codemirror_mode": {
    "name": "ipython",
    "version": 3
   },
   "file_extension": ".py",
   "mimetype": "text/x-python",
   "name": "python",
   "nbconvert_exporter": "python",
   "pygments_lexer": "ipython3",
   "version": "3.11.5"
  }
 },
 "nbformat": 4,
 "nbformat_minor": 5
}
