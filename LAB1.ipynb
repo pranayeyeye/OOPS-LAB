{
 "cells": [
  {
   "cell_type": "code",
   "execution_count": 1,
   "id": "35210184-f1d4-4fc3-ad2a-11620e4cdde2",
   "metadata": {
    "editable": true,
    "slideshow": {
     "slide_type": ""
    },
    "tags": []
   },
   "outputs": [
    {
     "name": "stdin",
     "output_type": "stream",
     "text": [
      "Enter any integer 45\n"
     ]
    },
    {
     "name": "stdout",
     "output_type": "stream",
     "text": [
      "value of a is  45\n"
     ]
    },
    {
     "name": "stdin",
     "output_type": "stream",
     "text": [
      "Enter any float 44.8\n"
     ]
    },
    {
     "name": "stdout",
     "output_type": "stream",
     "text": [
      "value of a is 44.8\n"
     ]
    },
    {
     "name": "stdin",
     "output_type": "stream",
     "text": [
      "Enter any string \"34\"\n"
     ]
    },
    {
     "name": "stdout",
     "output_type": "stream",
     "text": [
      "value of a is  \"34\"\n"
     ]
    },
    {
     "name": "stdin",
     "output_type": "stream",
     "text": [
      "Enter any integer 45\n"
     ]
    },
    {
     "name": "stdout",
     "output_type": "stream",
     "text": [
      "value of a is 45\n"
     ]
    },
    {
     "name": "stdin",
     "output_type": "stream",
     "text": [
      "Enter any float 56\n"
     ]
    },
    {
     "name": "stdout",
     "output_type": "stream",
     "text": [
      "value of a is 56\n"
     ]
    },
    {
     "name": "stdin",
     "output_type": "stream",
     "text": [
      "Enter any string 32\n"
     ]
    },
    {
     "name": "stdout",
     "output_type": "stream",
     "text": [
      "value of a is 32\n"
     ]
    }
   ],
   "source": [
    "a = int(input(\"Enter any integer\")) #type1\n",
    "print('value of a is ',a)\n",
    "a = float(input(\"Enter any float\")) #type2\n",
    "print('value of a is',a)\n",
    "a = input(\"Enter any string\") #type3\n",
    "print('value of a is ',a)\n",
    "a=eval(input(\"Enter any integer\")) #type4\n",
    "print('value of a is',a)\n",
    "a=eval(input(\"Enter any float\")) #type5\n",
    "print('value of a is',a)\n",
    "a=eval(input(\"Enter any string\")) #type6\n",
    "print('value of a is',a)\n"
   ]
  },
  {
   "cell_type": "markdown",
   "id": "ada5953b-f3e4-4979-9424-8ca82b382a9c",
   "metadata": {},
   "source": [
    " ### DECISION MAKING STATEMENT\n"
   ]
  },
  {
   "cell_type": "code",
   "execution_count": 3,
   "id": "8022c2ce-6e06-49a9-ab8b-3f4f1717d364",
   "metadata": {},
   "outputs": [
    {
     "name": "stdout",
     "output_type": "stream",
     "text": [
      "Welcome to MUJ\n"
     ]
    }
   ],
   "source": [
    "cgpa=7.0\n",
    "if cgpa>6.0:\n",
    "    print(\"Welcome to MUJ\")\n",
    "else :\n",
    "    print(\"Your application is denied\")"
   ]
  },
  {
   "cell_type": "code",
   "execution_count": 4,
   "id": "531cb19a-8c08-4fa7-aac7-fbb5668b906b",
   "metadata": {},
   "outputs": [
    {
     "name": "stdout",
     "output_type": "stream",
     "text": [
      "Your application is denied\n"
     ]
    }
   ],
   "source": [
    "cgpa = 7.0\n",
    "print(\"Welocme to MUJ\" if cgpa>8.0 else \"Your application is denied\")"
   ]
  },
  {
   "cell_type": "code",
   "execution_count": 5,
   "id": "218548a4-1bd4-480f-991b-f31f297bef9f",
   "metadata": {},
   "outputs": [
    {
     "name": "stdin",
     "output_type": "stream",
     "text": [
      "Enter an integer:  12\n"
     ]
    },
    {
     "name": "stdout",
     "output_type": "stream",
     "text": [
      "It is even\n"
     ]
    }
   ],
   "source": [
    "check=int(input('Enter an integer: '))\n",
    "if check%2 == 0:\n",
    "          print('It is even')\n",
    "else:\n",
    "         print('It is odd')"
   ]
  },
  {
   "cell_type": "markdown",
   "id": "8d72e1f8-87dd-485a-8b38-189a7267c53a",
   "metadata": {},
   "source": [
    " ### NESTED IF ELSE"
   ]
  },
  {
   "cell_type": "code",
   "execution_count": 7,
   "id": "3837e303-0702-4a37-a54d-4da6406380e5",
   "metadata": {},
   "outputs": [
    {
     "name": "stdout",
     "output_type": "stream",
     "text": [
      "Expression value is less than 200\n",
      "Which is 100\n",
      "Good bye!\n"
     ]
    }
   ],
   "source": [
    "var = 100\n",
    "if var < 200:\n",
    "    print(\"Expression value is less than 200\")\n",
    "if var == 150:\n",
    "    print(\"Which is 150\")\n",
    "elif var == 100:\n",
    "    print(\"Which is 100\")\n",
    "elif var == 50:\n",
    "    print(\"Which is 50\")\n",
    "elif var < 50:\n",
    "    print(\"Expression value is less than 50\")\n",
    "else:\n",
    "    print(\"Could not find true expression\")\n",
    "print(\"Good bye!\")"
   ]
  },
  {
   "cell_type": "code",
   "execution_count": 8,
   "id": "3b6fdc20-f53f-4cab-95b3-93cefe0e9872",
   "metadata": {},
   "outputs": [
    {
     "name": "stdin",
     "output_type": "stream",
     "text": [
      "Enter Mth Marks :  89\n",
      "Enter Phy Marks :  76\n",
      "Enter Chem Marks :  45\n",
      "Enter Bio Marks :  76\n",
      "Enter Hindi Marks :  90\n"
     ]
    },
    {
     "name": "stdout",
     "output_type": "stream",
     "text": [
      "75.2\n",
      "Grade is A\n"
     ]
    }
   ],
   "source": [
    "Math=int(input('Enter Mth Marks : '))\n",
    "Phy=int(input('Enter Phy Marks : '))\n",
    "CHem=int(input('Enter Chem Marks : '))\n",
    "Bio=int(input('Enter Bio Marks : '))\n",
    "Hindi=int(input('Enter Hindi Marks : '))\n",
    "ToTal_Percentage=float((Math+Phy+CHem+Bio+Hindi))/500 * 100\n",
    "print(ToTal_Percentage)\n",
    "if ToTal_Percentage>90:\n",
    "    print('Grade is A+')\n",
    "elif 70<ToTal_Percentage<=80:\n",
    "    print('Grade is A')\n",
    "elif ToTal_Percentage>70:\n",
    "    print('Grade is B+')\n",
    "elif ToTal_Percentage>60:\n",
    "    print('Grade is B')\n",
    "elif ToTal_Percentage>50:\n",
    "    print('Grade is C')\n",
    "elif ToTal_Percentage>40:\n",
    "    print('Grade is D')\n",
    "elif ToTal_Percentage>35:\n",
    "    print('Grade is E')\n",
    "else :\n",
    "    print('Grade is F')\n"
   ]
  },
  {
   "cell_type": "code",
   "execution_count": null,
   "id": "a5ab8609-6df6-4d41-b99e-5c9a754951d7",
   "metadata": {},
   "outputs": [],
   "source": []
  }
 ],
 "metadata": {
  "kernelspec": {
   "display_name": "anaconda-panel-2023.05-py310",
   "language": "python",
   "name": "conda-env-anaconda-panel-2023.05-py310-py"
  },
  "language_info": {
   "codemirror_mode": {
    "name": "ipython",
    "version": 3
   },
   "file_extension": ".py",
   "mimetype": "text/x-python",
   "name": "python",
   "nbconvert_exporter": "python",
   "pygments_lexer": "ipython3",
   "version": "3.11.5"
  }
 },
 "nbformat": 4,
 "nbformat_minor": 5
}
