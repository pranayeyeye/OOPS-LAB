{
 "cells": [
  {
   "cell_type": "markdown",
   "id": "9e2f443c-e4df-40a2-b66b-97deafd949f8",
   "metadata": {},
   "source": [
    "### Write a program to determine the angle between hands of a clock at a given time"
   ]
  },
  {
   "cell_type": "code",
   "execution_count": 33,
   "id": "248bc049-f295-4278-aa1a-1f6d9dbb6a4f",
   "metadata": {},
   "outputs": [
    {
     "name": "stdin",
     "output_type": "stream",
     "text": [
      "Enter hours: 3\n",
      "Enter min: 15\n"
     ]
    },
    {
     "data": {
      "text/plain": [
       "7.5"
      ]
     },
     "execution_count": 33,
     "metadata": {},
     "output_type": "execute_result"
    }
   ],
   "source": [
    "def angle(min, hour):\n",
    "    min_angle = min*6\n",
    "    hour_angle = (hour*30)+(min*(30/60))\n",
    "\n",
    "    return abs(hour_angle-min_angle)\n",
    "\n",
    "hour = int(input(\"Enter hours:\"))\n",
    "min = int(input(\"Enter min:\"))\n",
    "angle(min, hour)\n"
   ]
  },
  {
   "cell_type": "markdown",
   "id": "8b78a561-22cd-410c-8628-6080d27099d8",
   "metadata": {},
   "source": [
    "### WAP in python to find the factorial of any number using reduce function."
   ]
  },
  {
   "cell_type": "code",
   "execution_count": 20,
   "id": "f2b5cc2b-9f73-42a0-8eb1-52b5d131834c",
   "metadata": {},
   "outputs": [
    {
     "name": "stdin",
     "output_type": "stream",
     "text": [
      "Enter a number:  6\n"
     ]
    },
    {
     "name": "stdout",
     "output_type": "stream",
     "text": [
      "The factorial of 6 is: 720\n"
     ]
    }
   ],
   "source": [
    "from functools import reduce\n",
    "\n",
    "def factorial(n):\n",
    "    if n < 0:\n",
    "        return \"Factorial is not defined.\"\n",
    "    result = reduce(lambda x, y: x * y, range(1, n + 1), 1)\n",
    "    return result\n",
    "\n",
    "number = int(input(\"Enter a number: \"))\n",
    "result = factorial(number)\n",
    "print(\"The factorial of\", number, \"is:\", result)\n"
   ]
  },
  {
   "cell_type": "markdown",
   "id": "05c893bc-74c9-46d4-bb1d-ce8881d4401f",
   "metadata": {},
   "source": [
    "\n",
    "### WAP in python to find the largest among three numbers using reduce function."
   ]
  },
  {
   "cell_type": "code",
   "execution_count": 22,
   "id": "6fd57f39-6939-40fa-a3d8-e9f98a4c48a4",
   "metadata": {},
   "outputs": [
    {
     "name": "stdin",
     "output_type": "stream",
     "text": [
      "Enter first number:  3\n",
      "Enter second number:  4\n",
      "Enter third number:  5\n"
     ]
    },
    {
     "name": "stdout",
     "output_type": "stream",
     "text": [
      "The largest number is: 5.0\n"
     ]
    }
   ],
   "source": [
    "from functools import reduce\n",
    "\n",
    "def max_of_two(a, b):\n",
    "    if a > b:\n",
    "        return a\n",
    "    else:\n",
    "        return b\n",
    "\n",
    "num1 = float(input(\"Enter first number: \"))\n",
    "num2 = float(input(\"Enter second number: \"))\n",
    "num3 = float(input(\"Enter third number: \"))\n",
    "\n",
    "largest_number = reduce(max_of_two, [num1, num2, num3])\n",
    "\n",
    "print(\"The largest number is:\", largest_number)\n"
   ]
  }
 ],
 "metadata": {
  "kernelspec": {
   "display_name": "anaconda-panel-2023.05-py310",
   "language": "python",
   "name": "conda-env-anaconda-panel-2023.05-py310-py"
  },
  "language_info": {
   "codemirror_mode": {
    "name": "ipython",
    "version": 3
   },
   "file_extension": ".py",
   "mimetype": "text/x-python",
   "name": "python",
   "nbconvert_exporter": "python",
   "pygments_lexer": "ipython3",
   "version": "3.11.5"
  }
 },
 "nbformat": 4,
 "nbformat_minor": 5
}
