{
 "cells": [
  {
   "cell_type": "markdown",
   "id": "85239f80-5daa-48cc-b7f3-0e4c844d42cf",
   "metadata": {},
   "source": [
    "### Q1) Create a class Person with attributes name and age, and a method display() that prints the name and age. Then, create a subclass Student that inherits from Person and adds an attribute student_id. Write a method show_details() in Student to print all details, including student_id."
   ]
  },
  {
   "cell_type": "code",
   "execution_count": 5,
   "id": "cacb77af-3cc2-40d0-9efb-292694c652a3",
   "metadata": {},
   "outputs": [
    {
     "name": "stdout",
     "output_type": "stream",
     "text": [
      "Name: Pranay\n",
      "Age: 19\n",
      "Name: Pranay\n",
      "Age: 19\n",
      "Student ID: 23FE10CSE00027\n"
     ]
    }
   ],
   "source": [
    "class Person:\n",
    "    def __init__(self, name, age):\n",
    "        self.name = name\n",
    "        self.age = age\n",
    "\n",
    "    def display(self):\n",
    "        print(\"Name:\", self.name)\n",
    "        print(\"Age:\", self.age)\n",
    "\n",
    "class Student(Person):\n",
    "    def __init__(self, name, age, student_id):\n",
    "        super().__init__(name, age)\n",
    "        self.student_id = student_id\n",
    "\n",
    "    def show_details(self):\n",
    "        print(\"Name:\", self.name)\n",
    "        print(\"Age:\", self.age)\n",
    "        print(\"Student ID:\", self.student_id)\n",
    "\n",
    "person = Person(\"Pranay\", 19)\n",
    "person.display()\n",
    "\n",
    "student = Student(\"Pranay\", 19, \"23FE10CSE00027\")\n",
    "student.show_details()"
   ]
  },
  {
   "cell_type": "markdown",
   "id": "5d184afb-2e64-4c93-bf39-7656b29d0e22",
   "metadata": {},
   "source": [
    "### Q2)Create a class Vehicle with a method info() that prints \"This is a vehicle\". Inherit Car from Vehicle and add a method car_info() to print \"This is a car\". Further, create another subclass ElectricCar that inherits from Car and adds a method battery_info() to print \"This car has a battery.\" Demonstrate how multilevel inheritance works by calling all methods from an ElectricCar object."
   ]
  },
  {
   "cell_type": "code",
   "execution_count": 7,
   "id": "95360e8d-5665-439c-acb4-7d9deb6a8407",
   "metadata": {},
   "outputs": [
    {
     "name": "stdout",
     "output_type": "stream",
     "text": [
      "This is a vehicle\n",
      "This is a car\n",
      "This car has a battery.\n"
     ]
    }
   ],
   "source": [
    "class Vehicle:\n",
    "    def info(self):\n",
    "        print(\"This is a vehicle\")\n",
    "\n",
    "class Car(Vehicle):\n",
    "    def car_info(self):\n",
    "        print(\"This is a car\")\n",
    "\n",
    "class ElectricCar(Car):\n",
    "    def battery_info(self):\n",
    "        print(\"This car has a battery.\")\n",
    "\n",
    "electric_car = ElectricCar()\n",
    "electric_car.info()\n",
    "electric_car.car_info()\n",
    "electric_car.battery_info()"
   ]
  },
  {
   "cell_type": "markdown",
   "id": "13739a0c-6139-4d7b-a398-1030e46f3a43",
   "metadata": {},
   "source": [
    "### Q3)Create two classes Teacher and Author, each with their own description() method to describe the profession. Then, create a subclass TutorAuthor that inherits from both Teacher and Author. Use this subclass to call the description() method from each parent class. Use the super() function to resolve any conflicts if necessary."
   ]
  },
  {
   "cell_type": "code",
   "execution_count": 8,
   "id": "cda7669f-5beb-4808-9780-d9522bfcbb73",
   "metadata": {},
   "outputs": [
    {
     "name": "stdout",
     "output_type": "stream",
     "text": [
      "I am a teacher, I educate students.\n",
      "I am an author, I write books.\n"
     ]
    }
   ],
   "source": [
    "class Teacher:\n",
    "    def description(self):\n",
    "        print(\"I am a teacher, I educate students.\")\n",
    "\n",
    "class Author:\n",
    "    def description(self):\n",
    "        print(\"I am an author, I write books.\")\n",
    "\n",
    "class TutorAuthor(Teacher, Author):\n",
    "    def description(self):\n",
    "        super().description()  \n",
    "        Author.description(self)  \n",
    "\n",
    "tutor_author = TutorAuthor()\n",
    "tutor_author.description()"
   ]
  },
  {
   "cell_type": "markdown",
   "id": "a5cb77a7-bee4-4537-991d-5e8a6ad9d380",
   "metadata": {},
   "source": [
    "### Q4)Create a class Animal with a method sound() that prints \"Animals make sound\". Then create two subclasses Dog and Cat, each with their own version of sound() method that prints \"Dog barks\" and \"Cat meows\" respectively. Demonstrate hierarchical inheritance by calling the sound() method from both Dog and Cat objects."
   ]
  },
  {
   "cell_type": "code",
   "execution_count": 13,
   "id": "0fc333f1-eee6-47c5-81c8-1deb43e35c8f",
   "metadata": {},
   "outputs": [
    {
     "name": "stdout",
     "output_type": "stream",
     "text": [
      "Dog barks\n",
      "Cat meows\n"
     ]
    }
   ],
   "source": [
    "class Animal:\n",
    "    def sound(self):\n",
    "        print(\"Animals make sound\")\n",
    "\n",
    "class Dog(Animal):\n",
    "    def sound(self):\n",
    "        print(\"Dog barks\")\n",
    "\n",
    "class Cat(Animal):\n",
    "    def sound(self):\n",
    "        print(\"Cat meows\")\n",
    "\n",
    "dog = Dog()\n",
    "cat = Cat()\n",
    "\n",
    "dog.sound()\n",
    "cat.sound()"
   ]
  }
 ],
 "metadata": {
  "kernelspec": {
   "display_name": "anaconda-2022.05-py39",
   "language": "python",
   "name": "conda-env-anaconda-2022.05-py39-py"
  },
  "language_info": {
   "codemirror_mode": {
    "name": "ipython",
    "version": 3
   },
   "file_extension": ".py",
   "mimetype": "text/x-python",
   "name": "python",
   "nbconvert_exporter": "python",
   "pygments_lexer": "ipython3",
   "version": "3.9.12"
  }
 },
 "nbformat": 4,
 "nbformat_minor": 5
}
