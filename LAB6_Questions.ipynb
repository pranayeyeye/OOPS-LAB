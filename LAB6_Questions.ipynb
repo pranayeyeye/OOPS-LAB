{
 "cells": [
  {
   "cell_type": "markdown",
   "id": "b49242d9-809b-48bf-acf3-4ef8ba3dba8d",
   "metadata": {},
   "source": [
    "### Q1)WAP in python to use various invalid functions of a list."
   ]
  },
  {
   "cell_type": "code",
   "execution_count": 5,
   "id": "65885f82-53c9-499f-a2ff-0ba68c5af1de",
   "metadata": {},
   "outputs": [
    {
     "name": "stdout",
     "output_type": "stream",
     "text": [
      "[1, 2, 3, 4, 5, 6]\n",
      "[1, 2, 3, 4, 5, 6, 7, 8, 9]\n",
      "[0, 1, 2, 3, 4, 5, 6, 7, 8, 9]\n",
      "[0, 1, 2, 3, 4, 6, 7, 8, 9]\n",
      "9\n",
      "[0, 1, 2, 3, 4, 6, 7, 8]\n",
      "3\n",
      "1\n",
      "[0, 1, 2, 3, 4, 6, 7, 8]\n",
      "[8, 7, 6, 4, 3, 2, 1, 0]\n",
      "Final list: [8, 7, 6, 4, 3, 2, 1, 0]\n"
     ]
    }
   ],
   "source": [
    "my_list = [1, 2, 3, 4, 5]\n",
    "\n",
    "my_list.append(6)\n",
    "print(my_list)\n",
    "\n",
    "my_list.extend([7, 8, 9])\n",
    "print(my_list)\n",
    "\n",
    "my_list.insert(0, 0)\n",
    "print(my_list)\n",
    "\n",
    "my_list.remove(5)\n",
    "print(my_list)\n",
    "\n",
    "last_number = my_list.pop()\n",
    "print(last_number)\n",
    "print(my_list)\n",
    "\n",
    "index_of_3 = my_list.index(3)\n",
    "print(index_of_3)\n",
    "\n",
    "count_of_2 = my_list.count(2)\n",
    "print(count_of_2)\n",
    "\n",
    "my_list.sort()\n",
    "print(my_list)\n",
    "\n",
    "my_list.reverse()\n",
    "print(my_list)\n",
    "\n",
    "print(\"Final list:\", my_list)\n"
   ]
  },
  {
   "cell_type": "markdown",
   "id": "fda62993-4fd0-4849-9e5a-b432d3576c83",
   "metadata": {},
   "source": [
    "### Q2) WAP in python to pass the list as an argument in the function."
   ]
  },
  {
   "cell_type": "code",
   "execution_count": 20,
   "id": "ca8cc08c-3d84-4ec5-84ef-c808b8f90b32",
   "metadata": {},
   "outputs": [
    {
     "name": "stdout",
     "output_type": "stream",
     "text": [
      "1\n",
      "2\n",
      "3\n",
      "4\n",
      "5\n",
      "Total: 15\n"
     ]
    }
   ],
   "source": [
    "def list_argument(a_list):\n",
    "    for item in a_list:\n",
    "        print(item)\n",
    "    \n",
    "    total = 0\n",
    "    for number in a_list:\n",
    "        total += number\n",
    "    \n",
    "    print(\"Total:\", total)\n",
    "\n",
    "input_numbers = [1, 2, 3, 4, 5]\n",
    "list_argument(input_numbers)"
   ]
  },
  {
   "cell_type": "markdown",
   "id": "72e8d516-091a-47c2-a6f4-cab15e5ed8aa",
   "metadata": {},
   "source": [
    "### Q3)WAP to take variable length arguments and perform cube of each element."
   ]
  },
  {
   "cell_type": "code",
   "execution_count": 22,
   "id": "2f075d36-f971-4625-b69c-70b463b7fb44",
   "metadata": {},
   "outputs": [
    {
     "name": "stdout",
     "output_type": "stream",
     "text": [
      "[1, 8, 27, 64, 125]\n"
     ]
    }
   ],
   "source": [
    "def cube_of_elements(*args):\n",
    "    cubes = [x ** 3 for x in args]\n",
    "    return cubes\n",
    "\n",
    "result = cube_of_elements(1, 2, 3, 4, 5)\n",
    "print(result)  "
   ]
  },
  {
   "cell_type": "markdown",
   "id": "362951ac-8d3e-46c4-817e-cfb27e7707e1",
   "metadata": {},
   "source": [
    "### Q4)WAP for solving the tower of hanoi problem for n=3 disk."
   ]
  },
  {
   "cell_type": "code",
   "execution_count": 30,
   "id": "fd3c759b-b935-4fc4-bdf8-db4e89a86c28",
   "metadata": {},
   "outputs": [
    {
     "name": "stdout",
     "output_type": "stream",
     "text": [
      "Move disk 1 from A to C\n",
      "Move disk 2 from A to B\n",
      "Move disk 1 from C to B\n",
      "Move disk 3 from A to C\n",
      "Move disk 1 from B to A\n",
      "Move disk 2 from B to C\n",
      "Move disk 1 from A to C\n"
     ]
    }
   ],
   "source": [
    "def tower_of_hanoi(n, from_rod, to_rod, temp_rod):\n",
    "    if n == 1:\n",
    "        print(f\"Move disk 1 from {from_rod} to {to_rod}\")\n",
    "        return\n",
    "    tower_of_hanoi(n - 1, from_rod, temp_rod, to_rod)\n",
    "    print(f\"Move disk {n} from {from_rod} to {to_rod}\")\n",
    "    tower_of_hanoi(n - 1, temp_rod, to_rod, from_rod)\n",
    "\n",
    "tower_of_hanoi(3, 'A', 'C', 'B')"
   ]
  },
  {
   "cell_type": "markdown",
   "id": "d4652c71-4173-44ae-ab1c-1a677b39479e",
   "metadata": {},
   "source": [
    "### Q5) WAP that accepts string and calculate the number of uppercase and lowercase letters in string[Hint: x = \"Hello world\",upper=2,lower=8]"
   ]
  },
  {
   "cell_type": "code",
   "execution_count": 13,
   "id": "7ead13a4-52a9-41ab-ac7e-74ae56577bbb",
   "metadata": {},
   "outputs": [
    {
     "name": "stdin",
     "output_type": "stream",
     "text": [
      "Please enter a string:  Garden of Roses\n"
     ]
    },
    {
     "name": "stdout",
     "output_type": "stream",
     "text": [
      "The number of uppercase letters is: 2\n",
      "The number of lowercase letters is: 11\n"
     ]
    }
   ],
   "source": [
    "def count_upper_lower(string):\n",
    "    upper_count = 0\n",
    "    lower_count = 0\n",
    "    \n",
    "    for char in string:\n",
    "        if char.isupper():  \n",
    "            upper_count += 1\n",
    "        elif char.islower(): \n",
    "            lower_count += 1\n",
    "    \n",
    "    return upper_count, lower_count\n",
    "\n",
    "input_string = input(\"Please enter a string: \")\n",
    "upper, lower = count_upper_lower(input_string)\n",
    "\n",
    "print(\"The number of uppercase letters is:\", upper)\n",
    "print(\"The number of lowercase letters is:\", lower)"
   ]
  },
  {
   "cell_type": "markdown",
   "id": "2873b928-8650-4817-bd00-67000725b2d9",
   "metadata": {},
   "source": [
    "### Q6)WAP to compute GCD."
   ]
  },
  {
   "cell_type": "code",
   "execution_count": 9,
   "id": "ce318656-36cb-4f25-ac3d-fb5819d01462",
   "metadata": {},
   "outputs": [
    {
     "name": "stdin",
     "output_type": "stream",
     "text": [
      "Please enter the first number:  30\n",
      "Please enter the second number:  15\n"
     ]
    },
    {
     "name": "stdout",
     "output_type": "stream",
     "text": [
      "The GCD of 30 and 15 is 15\n"
     ]
    }
   ],
   "source": [
    "def find_gcd(a, b):\n",
    "    while b != 0:\n",
    "        remainder = a % b\n",
    "        a = b\n",
    "        b = remainder\n",
    "    return a\n",
    "\n",
    "first_number = input(\"Please enter the first number: \")\n",
    "second_number = input(\"Please enter the second number: \")\n",
    "\n",
    "first_number = int(first_number)\n",
    "second_number = int(second_number)\n",
    "\n",
    "gcd_result = find_gcd(first_number, second_number)\n",
    "\n",
    "print(\"The GCD of\", first_number, \"and\", second_number, \"is\", gcd_result)"
   ]
  }
 ],
 "metadata": {
  "kernelspec": {
   "display_name": "anaconda-2022.05-py39",
   "language": "python",
   "name": "conda-env-anaconda-2022.05-py39-py"
  },
  "language_info": {
   "codemirror_mode": {
    "name": "ipython",
    "version": 3
   },
   "file_extension": ".py",
   "mimetype": "text/x-python",
   "name": "python",
   "nbconvert_exporter": "python",
   "pygments_lexer": "ipython3",
   "version": "3.9.12"
  }
 },
 "nbformat": 4,
 "nbformat_minor": 5
}
